{
 "cells": [
  {
   "cell_type": "code",
   "execution_count": 6,
   "metadata": {
    "collapsed": true
   },
   "outputs": [],
   "source": [
    "import pandas as pd\n",
    "import numpy as np\n",
    "from pandas.plotting import scatter_matrix\n",
    "from matplotlib import pyplot as plt\n",
    "\n",
    "pd.set_option('max_columns', None, 'max_rows', None)"
   ]
  },
  {
   "cell_type": "code",
   "execution_count": 9,
   "metadata": {},
   "outputs": [],
   "source": [
    "data = []\n",
    "for i in range(5,10):\n",
    "    raw = pd.read_csv('ckd_imputed_'+str(i)+'.csv')\n",
    "    feature = raw.iloc[:,0:-1]\n",
    "    label = raw.iloc[:,-1]\n",
    "    x = feature.as_matrix()\n",
    "    y = label.as_matrix()\n",
    "    data.append((x,y))"
   ]
  },
  {
   "cell_type": "code",
   "execution_count": 17,
   "metadata": {
    "collapsed": true
   },
   "outputs": [],
   "source": [
    "from sklearn.linear_model import LogisticRegression\n",
    "from sklearn.tree import DecisionTreeClassifier\n",
    "from sklearn.ensemble import RandomForestClassifier"
   ]
  },
  {
   "cell_type": "code",
   "execution_count": 18,
   "metadata": {
    "collapsed": true
   },
   "outputs": [],
   "source": [
    "from sklearn.model_selection import cross_validate"
   ]
  },
  {
   "cell_type": "code",
   "execution_count": 19,
   "metadata": {
    "collapsed": true
   },
   "outputs": [],
   "source": [
    "scoring = {'accuracy': 'accuracy',\n",
    "           'f1': 'f1',\n",
    "           'precision': 'precision',\n",
    "           'recall': 'recall'}"
   ]
  },
  {
   "cell_type": "markdown",
   "metadata": {},
   "source": [
    "### Logistic Regression"
   ]
  },
  {
   "cell_type": "code",
   "execution_count": 24,
   "metadata": {
    "collapsed": true
   },
   "outputs": [],
   "source": [
    "scores_logistic = []\n",
    "for d in data:\n",
    "    x = d[0]\n",
    "    y = d[1]\n",
    "    logistic = LogisticRegression(C=7, penalty='l1')\n",
    "    score_logistic = cross_validate(logistic, x, y, cv=5, scoring=scoring)\n",
    "    scores_logistic.append(score_logistic)"
   ]
  },
  {
   "cell_type": "code",
   "execution_count": 26,
   "metadata": {},
   "outputs": [
    {
     "name": "stdout",
     "output_type": "stream",
     "text": [
      "0.015,0.002,0.971,0.965,1.000,1.000\n",
      "0.002,0.004,1.000,1.000,1.000,1.000\n",
      "0.019,0.001,0.958,0.966,0.994,0.995\n",
      "0.005,0.001,0.972,0.978,1.000,1.000\n",
      "0.002,0.001,0.990,0.992,1.000,1.000\n"
     ]
    },
    {
     "name": "stderr",
     "output_type": "stream",
     "text": [
      "/Applications/anaconda3/lib/python3.6/site-packages/sklearn/utils/deprecation.py:122: FutureWarning: You are accessing a training score ('train_accuracy'), which will not be available by default any more in 0.21. If you need training scores, please set return_train_score=True\n",
      "  warnings.warn(*warn_args, **warn_kwargs)\n",
      "/Applications/anaconda3/lib/python3.6/site-packages/sklearn/utils/deprecation.py:122: FutureWarning: You are accessing a training score ('train_f1'), which will not be available by default any more in 0.21. If you need training scores, please set return_train_score=True\n",
      "  warnings.warn(*warn_args, **warn_kwargs)\n"
     ]
    }
   ],
   "source": [
    "for score in scores_logistic:\n",
    "    fit_time = score['fit_time'].mean()\n",
    "    score_time = score['score_time'].mean()\n",
    "    test_accuracy = score['test_accuracy'].mean()\n",
    "    test_f1 = score['test_f1'].mean()\n",
    "    train_accuracy = score['train_accuracy'].mean()\n",
    "    train_f1 = score['train_f1'].mean()\n",
    "    print('{0:.3f},{1:.3f},{2:.3f},{3:.3f},{4:.3f},{5:.3f}'.format(fit_time, score_time, test_accuracy, \n",
    "                                                                   test_f1, train_accuracy, train_f1))"
   ]
  },
  {
   "cell_type": "markdown",
   "metadata": {},
   "source": [
    "### Decision Tree"
   ]
  },
  {
   "cell_type": "code",
   "execution_count": 27,
   "metadata": {
    "collapsed": true
   },
   "outputs": [],
   "source": [
    "scores_dt = []\n",
    "for d in data:\n",
    "    x = d[0]\n",
    "    y = d[1]\n",
    "    dt = DecisionTreeClassifier(max_depth=3)\n",
    "    score_dt = cross_validate(dt, x, y, cv=5, scoring=scoring)\n",
    "    score_dt\n",
    "    scores_dt.append(score_dt)"
   ]
  },
  {
   "cell_type": "code",
   "execution_count": 29,
   "metadata": {},
   "outputs": [
    {
     "name": "stdout",
     "output_type": "stream",
     "text": [
      "1.000,1.000,0.995,0.995\n",
      "1.000,1.000,1.000,1.000\n",
      "0.990,0.992,0.968,0.974\n",
      "0.990,0.992,0.958,0.967\n",
      "0.999,0.999,0.995,0.996\n"
     ]
    },
    {
     "name": "stderr",
     "output_type": "stream",
     "text": [
      "/Applications/anaconda3/lib/python3.6/site-packages/sklearn/utils/deprecation.py:122: FutureWarning: You are accessing a training score ('train_accuracy'), which will not be available by default any more in 0.21. If you need training scores, please set return_train_score=True\n",
      "  warnings.warn(*warn_args, **warn_kwargs)\n",
      "/Applications/anaconda3/lib/python3.6/site-packages/sklearn/utils/deprecation.py:122: FutureWarning: You are accessing a training score ('train_f1'), which will not be available by default any more in 0.21. If you need training scores, please set return_train_score=True\n",
      "  warnings.warn(*warn_args, **warn_kwargs)\n"
     ]
    }
   ],
   "source": [
    "for score in scores_dt:\n",
    "    fit_time = score['fit_time'].mean()\n",
    "    score_time = score['score_time'].mean()\n",
    "    test_accuracy = score['test_accuracy'].mean()\n",
    "    test_f1 = score['test_f1'].mean()\n",
    "    train_accuracy = score['train_accuracy'].mean()\n",
    "    train_f1 = score['train_f1'].mean()\n",
    "    print('{0:.3f},{1:.3f},{2:.3f},{3:.3f}'.format(train_accuracy, train_f1, test_accuracy, test_f1))"
   ]
  },
  {
   "cell_type": "markdown",
   "metadata": {},
   "source": [
    "### Random Forest"
   ]
  },
  {
   "cell_type": "code",
   "execution_count": 30,
   "metadata": {
    "collapsed": true
   },
   "outputs": [],
   "source": [
    "scores_rf = []\n",
    "for d in data:\n",
    "    x = d[0]\n",
    "    y = d[1]\n",
    "    rf = RandomForestClassifier(max_depth=None, n_estimators=50)\n",
    "    score_rf = cross_validate(rf, x, y, cv=5, scoring=scoring)\n",
    "    scores_rf.append(score_rf)"
   ]
  },
  {
   "cell_type": "code",
   "execution_count": 31,
   "metadata": {},
   "outputs": [
    {
     "name": "stdout",
     "output_type": "stream",
     "text": [
      "1.000,1.000,1.000,1.000\n",
      "1.000,1.000,1.000,1.000\n",
      "1.000,1.000,0.978,0.982\n",
      "1.000,1.000,0.995,0.996\n",
      "1.000,1.000,1.000,1.000\n"
     ]
    },
    {
     "name": "stderr",
     "output_type": "stream",
     "text": [
      "/Applications/anaconda3/lib/python3.6/site-packages/sklearn/utils/deprecation.py:122: FutureWarning: You are accessing a training score ('train_accuracy'), which will not be available by default any more in 0.21. If you need training scores, please set return_train_score=True\n",
      "  warnings.warn(*warn_args, **warn_kwargs)\n",
      "/Applications/anaconda3/lib/python3.6/site-packages/sklearn/utils/deprecation.py:122: FutureWarning: You are accessing a training score ('train_f1'), which will not be available by default any more in 0.21. If you need training scores, please set return_train_score=True\n",
      "  warnings.warn(*warn_args, **warn_kwargs)\n"
     ]
    }
   ],
   "source": [
    "for score in scores_rf:\n",
    "    fit_time = score['fit_time'].mean()\n",
    "    score_time = score['score_time'].mean()\n",
    "    test_accuracy = score['test_accuracy'].mean()\n",
    "    test_f1 = score['test_f1'].mean()\n",
    "    train_accuracy = score['train_accuracy'].mean()\n",
    "    train_f1 = score['train_f1'].mean()\n",
    "    print('{0:.3f},{1:.3f},{2:.3f},{3:.3f}'.format(train_accuracy, train_f1, test_accuracy, test_f1))"
   ]
  }
 ],
 "metadata": {
  "kernelspec": {
   "display_name": "Python 3",
   "language": "python",
   "name": "python3"
  },
  "language_info": {
   "codemirror_mode": {
    "name": "ipython",
    "version": 3
   },
   "file_extension": ".py",
   "mimetype": "text/x-python",
   "name": "python",
   "nbconvert_exporter": "python",
   "pygments_lexer": "ipython3",
   "version": "3.6.3"
  }
 },
 "nbformat": 4,
 "nbformat_minor": 2
}
