{
 "cells": [
  {
   "cell_type": "code",
   "execution_count": 1,
   "metadata": {
    "collapsed": true
   },
   "outputs": [],
   "source": [
    "import pandas as pd\n",
    "import numpy as np\n",
    "from pandas.plotting import scatter_matrix\n",
    "from matplotlib import pyplot as plt\n",
    "\n",
    "pd.set_option('max_columns', None, 'max_rows', None)"
   ]
  },
  {
   "cell_type": "code",
   "execution_count": 2,
   "metadata": {},
   "outputs": [
    {
     "data": {
      "text/html": [
       "<div>\n",
       "<style>\n",
       "    .dataframe thead tr:only-child th {\n",
       "        text-align: right;\n",
       "    }\n",
       "\n",
       "    .dataframe thead th {\n",
       "        text-align: left;\n",
       "    }\n",
       "\n",
       "    .dataframe tbody tr th {\n",
       "        vertical-align: top;\n",
       "    }\n",
       "</style>\n",
       "<table border=\"1\" class=\"dataframe\">\n",
       "  <thead>\n",
       "    <tr style=\"text-align: right;\">\n",
       "      <th></th>\n",
       "      <th>age</th>\n",
       "      <th>bp</th>\n",
       "      <th>sg</th>\n",
       "      <th>al</th>\n",
       "      <th>su</th>\n",
       "      <th>bgr</th>\n",
       "      <th>bu</th>\n",
       "      <th>sc</th>\n",
       "      <th>sod</th>\n",
       "      <th>pot</th>\n",
       "      <th>hemo</th>\n",
       "      <th>pcv</th>\n",
       "      <th>wbcc</th>\n",
       "      <th>rbcc</th>\n",
       "      <th>rbc_unknown</th>\n",
       "      <th>rbc_abnormal</th>\n",
       "      <th>rbc_normal</th>\n",
       "      <th>pc_unknown</th>\n",
       "      <th>pc_abnormal</th>\n",
       "      <th>pc_normal</th>\n",
       "      <th>pcc_present</th>\n",
       "      <th>ba_present</th>\n",
       "      <th>htn_yes</th>\n",
       "      <th>dm_yes</th>\n",
       "      <th>cad_yes</th>\n",
       "      <th>appet_good</th>\n",
       "      <th>pe_yes</th>\n",
       "      <th>ane_yes</th>\n",
       "      <th>ckd</th>\n",
       "    </tr>\n",
       "  </thead>\n",
       "  <tbody>\n",
       "    <tr>\n",
       "      <th>0</th>\n",
       "      <td>49.0</td>\n",
       "      <td>100.0</td>\n",
       "      <td>1.010</td>\n",
       "      <td>3.0</td>\n",
       "      <td>0.0</td>\n",
       "      <td>129.0</td>\n",
       "      <td>158.0</td>\n",
       "      <td>11.8</td>\n",
       "      <td>122.000000</td>\n",
       "      <td>3.200000</td>\n",
       "      <td>8.1</td>\n",
       "      <td>24.0</td>\n",
       "      <td>9600.000000</td>\n",
       "      <td>3.500000</td>\n",
       "      <td>0</td>\n",
       "      <td>1</td>\n",
       "      <td>0</td>\n",
       "      <td>0</td>\n",
       "      <td>1</td>\n",
       "      <td>0</td>\n",
       "      <td>0</td>\n",
       "      <td>0</td>\n",
       "      <td>1</td>\n",
       "      <td>1</td>\n",
       "      <td>0</td>\n",
       "      <td>0</td>\n",
       "      <td>1</td>\n",
       "      <td>1</td>\n",
       "      <td>1</td>\n",
       "    </tr>\n",
       "    <tr>\n",
       "      <th>1</th>\n",
       "      <td>51.0</td>\n",
       "      <td>80.0</td>\n",
       "      <td>1.020</td>\n",
       "      <td>0.0</td>\n",
       "      <td>0.0</td>\n",
       "      <td>94.0</td>\n",
       "      <td>15.0</td>\n",
       "      <td>1.2</td>\n",
       "      <td>144.000000</td>\n",
       "      <td>3.700000</td>\n",
       "      <td>15.5</td>\n",
       "      <td>46.0</td>\n",
       "      <td>9500.000000</td>\n",
       "      <td>6.400000</td>\n",
       "      <td>0</td>\n",
       "      <td>0</td>\n",
       "      <td>1</td>\n",
       "      <td>0</td>\n",
       "      <td>0</td>\n",
       "      <td>1</td>\n",
       "      <td>0</td>\n",
       "      <td>0</td>\n",
       "      <td>0</td>\n",
       "      <td>0</td>\n",
       "      <td>0</td>\n",
       "      <td>1</td>\n",
       "      <td>0</td>\n",
       "      <td>0</td>\n",
       "      <td>0</td>\n",
       "    </tr>\n",
       "    <tr>\n",
       "      <th>2</th>\n",
       "      <td>20.0</td>\n",
       "      <td>70.0</td>\n",
       "      <td>1.020</td>\n",
       "      <td>0.0</td>\n",
       "      <td>0.0</td>\n",
       "      <td>123.0</td>\n",
       "      <td>44.0</td>\n",
       "      <td>1.0</td>\n",
       "      <td>135.000000</td>\n",
       "      <td>3.800000</td>\n",
       "      <td>14.6</td>\n",
       "      <td>44.0</td>\n",
       "      <td>5500.000000</td>\n",
       "      <td>4.800000</td>\n",
       "      <td>0</td>\n",
       "      <td>0</td>\n",
       "      <td>1</td>\n",
       "      <td>0</td>\n",
       "      <td>0</td>\n",
       "      <td>1</td>\n",
       "      <td>0</td>\n",
       "      <td>0</td>\n",
       "      <td>0</td>\n",
       "      <td>0</td>\n",
       "      <td>0</td>\n",
       "      <td>1</td>\n",
       "      <td>0</td>\n",
       "      <td>0</td>\n",
       "      <td>0</td>\n",
       "    </tr>\n",
       "    <tr>\n",
       "      <th>3</th>\n",
       "      <td>29.0</td>\n",
       "      <td>70.0</td>\n",
       "      <td>1.020</td>\n",
       "      <td>0.0</td>\n",
       "      <td>0.0</td>\n",
       "      <td>127.0</td>\n",
       "      <td>44.0</td>\n",
       "      <td>1.2</td>\n",
       "      <td>145.000000</td>\n",
       "      <td>5.000000</td>\n",
       "      <td>14.8</td>\n",
       "      <td>48.0</td>\n",
       "      <td>7705.594406</td>\n",
       "      <td>5.379021</td>\n",
       "      <td>0</td>\n",
       "      <td>0</td>\n",
       "      <td>1</td>\n",
       "      <td>0</td>\n",
       "      <td>0</td>\n",
       "      <td>1</td>\n",
       "      <td>0</td>\n",
       "      <td>0</td>\n",
       "      <td>0</td>\n",
       "      <td>0</td>\n",
       "      <td>0</td>\n",
       "      <td>1</td>\n",
       "      <td>0</td>\n",
       "      <td>0</td>\n",
       "      <td>0</td>\n",
       "    </tr>\n",
       "    <tr>\n",
       "      <th>4</th>\n",
       "      <td>65.0</td>\n",
       "      <td>80.0</td>\n",
       "      <td>1.015</td>\n",
       "      <td>2.0</td>\n",
       "      <td>1.0</td>\n",
       "      <td>215.0</td>\n",
       "      <td>133.0</td>\n",
       "      <td>2.5</td>\n",
       "      <td>133.901786</td>\n",
       "      <td>4.878443</td>\n",
       "      <td>13.2</td>\n",
       "      <td>41.0</td>\n",
       "      <td>9069.536424</td>\n",
       "      <td>3.945238</td>\n",
       "      <td>0</td>\n",
       "      <td>0</td>\n",
       "      <td>1</td>\n",
       "      <td>0</td>\n",
       "      <td>0</td>\n",
       "      <td>1</td>\n",
       "      <td>1</td>\n",
       "      <td>0</td>\n",
       "      <td>0</td>\n",
       "      <td>1</td>\n",
       "      <td>0</td>\n",
       "      <td>1</td>\n",
       "      <td>0</td>\n",
       "      <td>0</td>\n",
       "      <td>1</td>\n",
       "    </tr>\n",
       "  </tbody>\n",
       "</table>\n",
       "</div>"
      ],
      "text/plain": [
       "    age     bp     sg   al   su    bgr     bu    sc         sod       pot  \\\n",
       "0  49.0  100.0  1.010  3.0  0.0  129.0  158.0  11.8  122.000000  3.200000   \n",
       "1  51.0   80.0  1.020  0.0  0.0   94.0   15.0   1.2  144.000000  3.700000   \n",
       "2  20.0   70.0  1.020  0.0  0.0  123.0   44.0   1.0  135.000000  3.800000   \n",
       "3  29.0   70.0  1.020  0.0  0.0  127.0   44.0   1.2  145.000000  5.000000   \n",
       "4  65.0   80.0  1.015  2.0  1.0  215.0  133.0   2.5  133.901786  4.878443   \n",
       "\n",
       "   hemo   pcv         wbcc      rbcc  rbc_unknown  rbc_abnormal  rbc_normal  \\\n",
       "0   8.1  24.0  9600.000000  3.500000            0             1           0   \n",
       "1  15.5  46.0  9500.000000  6.400000            0             0           1   \n",
       "2  14.6  44.0  5500.000000  4.800000            0             0           1   \n",
       "3  14.8  48.0  7705.594406  5.379021            0             0           1   \n",
       "4  13.2  41.0  9069.536424  3.945238            0             0           1   \n",
       "\n",
       "   pc_unknown  pc_abnormal  pc_normal  pcc_present  ba_present  htn_yes  \\\n",
       "0           0            1          0            0           0        1   \n",
       "1           0            0          1            0           0        0   \n",
       "2           0            0          1            0           0        0   \n",
       "3           0            0          1            0           0        0   \n",
       "4           0            0          1            1           0        0   \n",
       "\n",
       "   dm_yes  cad_yes  appet_good  pe_yes  ane_yes  ckd  \n",
       "0       1        0           0       1        1    1  \n",
       "1       0        0           1       0        0    0  \n",
       "2       0        0           1       0        0    0  \n",
       "3       0        0           1       0        0    0  \n",
       "4       1        0           1       0        0    1  "
      ]
     },
     "execution_count": 2,
     "metadata": {},
     "output_type": "execute_result"
    }
   ],
   "source": [
    "raw = pd.read_csv('ckd_imputed_9.csv')\n",
    "raw.head()"
   ]
  },
  {
   "cell_type": "code",
   "execution_count": 3,
   "metadata": {},
   "outputs": [
    {
     "data": {
      "text/html": [
       "<div>\n",
       "<style>\n",
       "    .dataframe thead tr:only-child th {\n",
       "        text-align: right;\n",
       "    }\n",
       "\n",
       "    .dataframe thead th {\n",
       "        text-align: left;\n",
       "    }\n",
       "\n",
       "    .dataframe tbody tr th {\n",
       "        vertical-align: top;\n",
       "    }\n",
       "</style>\n",
       "<table border=\"1\" class=\"dataframe\">\n",
       "  <thead>\n",
       "    <tr style=\"text-align: right;\">\n",
       "      <th></th>\n",
       "      <th>age</th>\n",
       "      <th>bp</th>\n",
       "      <th>sg</th>\n",
       "      <th>al</th>\n",
       "      <th>su</th>\n",
       "      <th>bgr</th>\n",
       "      <th>bu</th>\n",
       "      <th>sc</th>\n",
       "      <th>sod</th>\n",
       "      <th>pot</th>\n",
       "      <th>hemo</th>\n",
       "      <th>pcv</th>\n",
       "      <th>wbcc</th>\n",
       "      <th>rbcc</th>\n",
       "      <th>rbc_unknown</th>\n",
       "      <th>rbc_abnormal</th>\n",
       "      <th>rbc_normal</th>\n",
       "      <th>pc_unknown</th>\n",
       "      <th>pc_abnormal</th>\n",
       "      <th>pc_normal</th>\n",
       "      <th>pcc_present</th>\n",
       "      <th>ba_present</th>\n",
       "      <th>htn_yes</th>\n",
       "      <th>dm_yes</th>\n",
       "      <th>cad_yes</th>\n",
       "      <th>appet_good</th>\n",
       "      <th>pe_yes</th>\n",
       "      <th>ane_yes</th>\n",
       "    </tr>\n",
       "  </thead>\n",
       "  <tbody>\n",
       "    <tr>\n",
       "      <th>0</th>\n",
       "      <td>49.0</td>\n",
       "      <td>100.0</td>\n",
       "      <td>1.010</td>\n",
       "      <td>3.0</td>\n",
       "      <td>0.0</td>\n",
       "      <td>129.0</td>\n",
       "      <td>158.0</td>\n",
       "      <td>11.8</td>\n",
       "      <td>122.000000</td>\n",
       "      <td>3.200000</td>\n",
       "      <td>8.1</td>\n",
       "      <td>24.0</td>\n",
       "      <td>9600.000000</td>\n",
       "      <td>3.500000</td>\n",
       "      <td>0</td>\n",
       "      <td>1</td>\n",
       "      <td>0</td>\n",
       "      <td>0</td>\n",
       "      <td>1</td>\n",
       "      <td>0</td>\n",
       "      <td>0</td>\n",
       "      <td>0</td>\n",
       "      <td>1</td>\n",
       "      <td>1</td>\n",
       "      <td>0</td>\n",
       "      <td>0</td>\n",
       "      <td>1</td>\n",
       "      <td>1</td>\n",
       "    </tr>\n",
       "    <tr>\n",
       "      <th>1</th>\n",
       "      <td>51.0</td>\n",
       "      <td>80.0</td>\n",
       "      <td>1.020</td>\n",
       "      <td>0.0</td>\n",
       "      <td>0.0</td>\n",
       "      <td>94.0</td>\n",
       "      <td>15.0</td>\n",
       "      <td>1.2</td>\n",
       "      <td>144.000000</td>\n",
       "      <td>3.700000</td>\n",
       "      <td>15.5</td>\n",
       "      <td>46.0</td>\n",
       "      <td>9500.000000</td>\n",
       "      <td>6.400000</td>\n",
       "      <td>0</td>\n",
       "      <td>0</td>\n",
       "      <td>1</td>\n",
       "      <td>0</td>\n",
       "      <td>0</td>\n",
       "      <td>1</td>\n",
       "      <td>0</td>\n",
       "      <td>0</td>\n",
       "      <td>0</td>\n",
       "      <td>0</td>\n",
       "      <td>0</td>\n",
       "      <td>1</td>\n",
       "      <td>0</td>\n",
       "      <td>0</td>\n",
       "    </tr>\n",
       "    <tr>\n",
       "      <th>2</th>\n",
       "      <td>20.0</td>\n",
       "      <td>70.0</td>\n",
       "      <td>1.020</td>\n",
       "      <td>0.0</td>\n",
       "      <td>0.0</td>\n",
       "      <td>123.0</td>\n",
       "      <td>44.0</td>\n",
       "      <td>1.0</td>\n",
       "      <td>135.000000</td>\n",
       "      <td>3.800000</td>\n",
       "      <td>14.6</td>\n",
       "      <td>44.0</td>\n",
       "      <td>5500.000000</td>\n",
       "      <td>4.800000</td>\n",
       "      <td>0</td>\n",
       "      <td>0</td>\n",
       "      <td>1</td>\n",
       "      <td>0</td>\n",
       "      <td>0</td>\n",
       "      <td>1</td>\n",
       "      <td>0</td>\n",
       "      <td>0</td>\n",
       "      <td>0</td>\n",
       "      <td>0</td>\n",
       "      <td>0</td>\n",
       "      <td>1</td>\n",
       "      <td>0</td>\n",
       "      <td>0</td>\n",
       "    </tr>\n",
       "    <tr>\n",
       "      <th>3</th>\n",
       "      <td>29.0</td>\n",
       "      <td>70.0</td>\n",
       "      <td>1.020</td>\n",
       "      <td>0.0</td>\n",
       "      <td>0.0</td>\n",
       "      <td>127.0</td>\n",
       "      <td>44.0</td>\n",
       "      <td>1.2</td>\n",
       "      <td>145.000000</td>\n",
       "      <td>5.000000</td>\n",
       "      <td>14.8</td>\n",
       "      <td>48.0</td>\n",
       "      <td>7705.594406</td>\n",
       "      <td>5.379021</td>\n",
       "      <td>0</td>\n",
       "      <td>0</td>\n",
       "      <td>1</td>\n",
       "      <td>0</td>\n",
       "      <td>0</td>\n",
       "      <td>1</td>\n",
       "      <td>0</td>\n",
       "      <td>0</td>\n",
       "      <td>0</td>\n",
       "      <td>0</td>\n",
       "      <td>0</td>\n",
       "      <td>1</td>\n",
       "      <td>0</td>\n",
       "      <td>0</td>\n",
       "    </tr>\n",
       "    <tr>\n",
       "      <th>4</th>\n",
       "      <td>65.0</td>\n",
       "      <td>80.0</td>\n",
       "      <td>1.015</td>\n",
       "      <td>2.0</td>\n",
       "      <td>1.0</td>\n",
       "      <td>215.0</td>\n",
       "      <td>133.0</td>\n",
       "      <td>2.5</td>\n",
       "      <td>133.901786</td>\n",
       "      <td>4.878443</td>\n",
       "      <td>13.2</td>\n",
       "      <td>41.0</td>\n",
       "      <td>9069.536424</td>\n",
       "      <td>3.945238</td>\n",
       "      <td>0</td>\n",
       "      <td>0</td>\n",
       "      <td>1</td>\n",
       "      <td>0</td>\n",
       "      <td>0</td>\n",
       "      <td>1</td>\n",
       "      <td>1</td>\n",
       "      <td>0</td>\n",
       "      <td>0</td>\n",
       "      <td>1</td>\n",
       "      <td>0</td>\n",
       "      <td>1</td>\n",
       "      <td>0</td>\n",
       "      <td>0</td>\n",
       "    </tr>\n",
       "  </tbody>\n",
       "</table>\n",
       "</div>"
      ],
      "text/plain": [
       "    age     bp     sg   al   su    bgr     bu    sc         sod       pot  \\\n",
       "0  49.0  100.0  1.010  3.0  0.0  129.0  158.0  11.8  122.000000  3.200000   \n",
       "1  51.0   80.0  1.020  0.0  0.0   94.0   15.0   1.2  144.000000  3.700000   \n",
       "2  20.0   70.0  1.020  0.0  0.0  123.0   44.0   1.0  135.000000  3.800000   \n",
       "3  29.0   70.0  1.020  0.0  0.0  127.0   44.0   1.2  145.000000  5.000000   \n",
       "4  65.0   80.0  1.015  2.0  1.0  215.0  133.0   2.5  133.901786  4.878443   \n",
       "\n",
       "   hemo   pcv         wbcc      rbcc  rbc_unknown  rbc_abnormal  rbc_normal  \\\n",
       "0   8.1  24.0  9600.000000  3.500000            0             1           0   \n",
       "1  15.5  46.0  9500.000000  6.400000            0             0           1   \n",
       "2  14.6  44.0  5500.000000  4.800000            0             0           1   \n",
       "3  14.8  48.0  7705.594406  5.379021            0             0           1   \n",
       "4  13.2  41.0  9069.536424  3.945238            0             0           1   \n",
       "\n",
       "   pc_unknown  pc_abnormal  pc_normal  pcc_present  ba_present  htn_yes  \\\n",
       "0           0            1          0            0           0        1   \n",
       "1           0            0          1            0           0        0   \n",
       "2           0            0          1            0           0        0   \n",
       "3           0            0          1            0           0        0   \n",
       "4           0            0          1            1           0        0   \n",
       "\n",
       "   dm_yes  cad_yes  appet_good  pe_yes  ane_yes  \n",
       "0       1        0           0       1        1  \n",
       "1       0        0           1       0        0  \n",
       "2       0        0           1       0        0  \n",
       "3       0        0           1       0        0  \n",
       "4       1        0           1       0        0  "
      ]
     },
     "execution_count": 3,
     "metadata": {},
     "output_type": "execute_result"
    }
   ],
   "source": [
    "feature = raw.iloc[:,0:-1]\n",
    "feature.head()"
   ]
  },
  {
   "cell_type": "code",
   "execution_count": 4,
   "metadata": {},
   "outputs": [
    {
     "data": {
      "text/plain": [
       "0    1\n",
       "1    0\n",
       "2    0\n",
       "3    0\n",
       "4    1\n",
       "Name: ckd, dtype: int64"
      ]
     },
     "execution_count": 4,
     "metadata": {},
     "output_type": "execute_result"
    }
   ],
   "source": [
    "label = raw.iloc[:,-1]\n",
    "label.head()"
   ]
  },
  {
   "cell_type": "code",
   "execution_count": 5,
   "metadata": {
    "collapsed": true
   },
   "outputs": [],
   "source": [
    "x = feature.as_matrix()\n",
    "y = label.as_matrix()"
   ]
  },
  {
   "cell_type": "code",
   "execution_count": 6,
   "metadata": {
    "collapsed": true
   },
   "outputs": [],
   "source": [
    "from sklearn.linear_model import SGDClassifier, Perceptron, LogisticRegression\n",
    "from sklearn.svm import SVC\n",
    "from sklearn.tree import DecisionTreeClassifier\n",
    "from sklearn.ensemble import RandomForestClassifier, AdaBoostClassifier, BaggingClassifier\n",
    "from xgboost import XGBClassifier"
   ]
  },
  {
   "cell_type": "code",
   "execution_count": 7,
   "metadata": {
    "collapsed": true
   },
   "outputs": [],
   "source": [
    "from sklearn.model_selection import GridSearchCV"
   ]
  },
  {
   "cell_type": "code",
   "execution_count": 8,
   "metadata": {
    "collapsed": true
   },
   "outputs": [],
   "source": [
    "from sklearn.model_selection import cross_validate"
   ]
  },
  {
   "cell_type": "code",
   "execution_count": 9,
   "metadata": {
    "collapsed": true
   },
   "outputs": [],
   "source": [
    "scoring = {'accuracy': 'accuracy',\n",
    "           'f1': 'f1',\n",
    "           'precision': 'precision',\n",
    "           'recall': 'recall'}"
   ]
  },
  {
   "cell_type": "markdown",
   "metadata": {},
   "source": [
    "### Logistic Regression"
   ]
  },
  {
   "cell_type": "markdown",
   "metadata": {},
   "source": [
    "Tuning hyperparameter"
   ]
  },
  {
   "cell_type": "code",
   "execution_count": 10,
   "metadata": {},
   "outputs": [
    {
     "data": {
      "text/plain": [
       "GridSearchCV(cv=5, error_score='raise',\n",
       "       estimator=LogisticRegression(C=1.0, class_weight=None, dual=False, fit_intercept=True,\n",
       "          intercept_scaling=1, max_iter=100, multi_class='ovr', n_jobs=1,\n",
       "          penalty='l2', random_state=None, solver='liblinear', tol=0.0001,\n",
       "          verbose=0, warm_start=False),\n",
       "       fit_params=None, iid=True, n_jobs=1,\n",
       "       param_grid={'penalty': ['l1', 'l2'], 'C': [1, 3, 5, 7, 9, 11]},\n",
       "       pre_dispatch='2*n_jobs', refit=True, return_train_score='warn',\n",
       "       scoring='f1', verbose=0)"
      ]
     },
     "execution_count": 10,
     "metadata": {},
     "output_type": "execute_result"
    }
   ],
   "source": [
    "parameters_logistic = {'penalty': ['l1', 'l2'],\n",
    "                       'C': [1, 3, 5, 7, 9, 11]}\n",
    "gscv_logistic = GridSearchCV(LogisticRegression(), parameters_logistic, cv=5, scoring='f1')\n",
    "gscv_logistic.fit(x, y)"
   ]
  },
  {
   "cell_type": "code",
   "execution_count": 11,
   "metadata": {},
   "outputs": [
    {
     "data": {
      "text/plain": [
       "{'C': 7, 'penalty': 'l1'}"
      ]
     },
     "execution_count": 11,
     "metadata": {},
     "output_type": "execute_result"
    }
   ],
   "source": [
    "gscv_logistic.best_params_"
   ]
  },
  {
   "cell_type": "code",
   "execution_count": 12,
   "metadata": {},
   "outputs": [
    {
     "data": {
      "text/plain": [
       "0.9938981653267368"
      ]
     },
     "execution_count": 12,
     "metadata": {},
     "output_type": "execute_result"
    }
   ],
   "source": [
    "gscv_logistic.best_score_"
   ]
  },
  {
   "cell_type": "markdown",
   "metadata": {},
   "source": [
    "Cross validation"
   ]
  },
  {
   "cell_type": "code",
   "execution_count": 13,
   "metadata": {
    "collapsed": true
   },
   "outputs": [],
   "source": [
    "logistic = LogisticRegression(C=7, penalty='l1')"
   ]
  },
  {
   "cell_type": "code",
   "execution_count": 14,
   "metadata": {},
   "outputs": [
    {
     "name": "stderr",
     "output_type": "stream",
     "text": [
      "/Applications/anaconda3/lib/python3.6/site-packages/sklearn/utils/deprecation.py:122: FutureWarning: You are accessing a training score ('train_accuracy'), which will not be available by default any more in 0.21. If you need training scores, please set return_train_score=True\n",
      "  warnings.warn(*warn_args, **warn_kwargs)\n",
      "/Applications/anaconda3/lib/python3.6/site-packages/sklearn/utils/deprecation.py:122: FutureWarning: You are accessing a training score ('train_f1'), which will not be available by default any more in 0.21. If you need training scores, please set return_train_score=True\n",
      "  warnings.warn(*warn_args, **warn_kwargs)\n",
      "/Applications/anaconda3/lib/python3.6/site-packages/sklearn/utils/deprecation.py:122: FutureWarning: You are accessing a training score ('train_precision'), which will not be available by default any more in 0.21. If you need training scores, please set return_train_score=True\n",
      "  warnings.warn(*warn_args, **warn_kwargs)\n",
      "/Applications/anaconda3/lib/python3.6/site-packages/sklearn/utils/deprecation.py:122: FutureWarning: You are accessing a training score ('train_recall'), which will not be available by default any more in 0.21. If you need training scores, please set return_train_score=True\n",
      "  warnings.warn(*warn_args, **warn_kwargs)\n"
     ]
    },
    {
     "data": {
      "text/plain": [
       "{'fit_time': array([ 0.00344825,  0.00577998,  0.00267506,  0.00286937,  0.00168896]),\n",
       " 'score_time': array([ 0.00166798,  0.00137591,  0.00127912,  0.00126266,  0.00125313]),\n",
       " 'test_accuracy': array([ 1.    ,  0.9875,  0.9625,  1.    ,  1.    ]),\n",
       " 'test_f1': array([ 1.        ,  0.98989899,  0.96907216,  1.        ,  1.        ]),\n",
       " 'test_precision': array([ 1.,  1.,  1.,  1.,  1.]),\n",
       " 'test_recall': array([ 1.  ,  0.98,  0.94,  1.  ,  1.  ]),\n",
       " 'train_accuracy': array([ 1.,  1.,  1.,  1.,  1.]),\n",
       " 'train_f1': array([ 1.,  1.,  1.,  1.,  1.]),\n",
       " 'train_precision': array([ 1.,  1.,  1.,  1.,  1.]),\n",
       " 'train_recall': array([ 1.,  1.,  1.,  1.,  1.])}"
      ]
     },
     "execution_count": 14,
     "metadata": {},
     "output_type": "execute_result"
    }
   ],
   "source": [
    "score_logistic = cross_validate(logistic, x, y, cv=5, scoring=scoring)\n",
    "score_logistic"
   ]
  },
  {
   "cell_type": "markdown",
   "metadata": {},
   "source": [
    "### Perceptron"
   ]
  },
  {
   "cell_type": "markdown",
   "metadata": {},
   "source": [
    "Tuning hyperparameter"
   ]
  },
  {
   "cell_type": "code",
   "execution_count": 15,
   "metadata": {},
   "outputs": [
    {
     "data": {
      "text/plain": [
       "GridSearchCV(cv=5, error_score='raise',\n",
       "       estimator=Perceptron(alpha=0.0001, class_weight=None, eta0=1.0, fit_intercept=True,\n",
       "      max_iter=None, n_iter=None, n_jobs=1, penalty=None, random_state=0,\n",
       "      shuffle=True, tol=None, verbose=0, warm_start=False),\n",
       "       fit_params=None, iid=True, n_jobs=1,\n",
       "       param_grid={'penalty': ['l1', 'l2', 'elasticnet'], 'alpha': [1, 0.01, 0.001, 0.0001, 1e-05], 'max_iter': [100], 'tol': [1e-10], 'eta0': [0.1, 0.01, 0.001]},\n",
       "       pre_dispatch='2*n_jobs', refit=True, return_train_score='warn',\n",
       "       scoring='accuracy', verbose=0)"
      ]
     },
     "execution_count": 15,
     "metadata": {},
     "output_type": "execute_result"
    }
   ],
   "source": [
    "parameters_perceptron = {'penalty': ['l1', 'l2', 'elasticnet'],\n",
    "                         'alpha': [1, 0.01, 0.001, 0.0001, 0.00001],\n",
    "                         'max_iter': [100],\n",
    "                         'tol': [1e-10],\n",
    "                         'eta0': [0.1, 0.01, 0.001]}\n",
    "gscv_perceptron = GridSearchCV(Perceptron(), parameters_perceptron, cv=5, scoring='accuracy')\n",
    "gscv_perceptron.fit(x, y)"
   ]
  },
  {
   "cell_type": "code",
   "execution_count": 16,
   "metadata": {},
   "outputs": [
    {
     "data": {
      "text/plain": [
       "{'alpha': 1, 'eta0': 0.1, 'max_iter': 100, 'penalty': 'l1', 'tol': 1e-10}"
      ]
     },
     "execution_count": 16,
     "metadata": {},
     "output_type": "execute_result"
    }
   ],
   "source": [
    "gscv_perceptron.best_params_"
   ]
  },
  {
   "cell_type": "code",
   "execution_count": 17,
   "metadata": {},
   "outputs": [
    {
     "data": {
      "text/plain": [
       "0.64749999999999996"
      ]
     },
     "execution_count": 17,
     "metadata": {},
     "output_type": "execute_result"
    }
   ],
   "source": [
    "gscv_perceptron.best_score_"
   ]
  },
  {
   "cell_type": "markdown",
   "metadata": {},
   "source": [
    "Cross validation"
   ]
  },
  {
   "cell_type": "code",
   "execution_count": 18,
   "metadata": {
    "collapsed": true
   },
   "outputs": [],
   "source": [
    "perceptron = Perceptron(alpha=1, eta0=0.1, max_iter=100, penalty='l1', tol=1e-10)"
   ]
  },
  {
   "cell_type": "code",
   "execution_count": 19,
   "metadata": {},
   "outputs": [
    {
     "name": "stderr",
     "output_type": "stream",
     "text": [
      "/Applications/anaconda3/lib/python3.6/site-packages/sklearn/utils/deprecation.py:122: FutureWarning: You are accessing a training score ('train_accuracy'), which will not be available by default any more in 0.21. If you need training scores, please set return_train_score=True\n",
      "  warnings.warn(*warn_args, **warn_kwargs)\n",
      "/Applications/anaconda3/lib/python3.6/site-packages/sklearn/utils/deprecation.py:122: FutureWarning: You are accessing a training score ('train_f1'), which will not be available by default any more in 0.21. If you need training scores, please set return_train_score=True\n",
      "  warnings.warn(*warn_args, **warn_kwargs)\n",
      "/Applications/anaconda3/lib/python3.6/site-packages/sklearn/utils/deprecation.py:122: FutureWarning: You are accessing a training score ('train_precision'), which will not be available by default any more in 0.21. If you need training scores, please set return_train_score=True\n",
      "  warnings.warn(*warn_args, **warn_kwargs)\n",
      "/Applications/anaconda3/lib/python3.6/site-packages/sklearn/utils/deprecation.py:122: FutureWarning: You are accessing a training score ('train_recall'), which will not be available by default any more in 0.21. If you need training scores, please set return_train_score=True\n",
      "  warnings.warn(*warn_args, **warn_kwargs)\n"
     ]
    },
    {
     "data": {
      "text/plain": [
       "{'fit_time': array([ 0.00188208,  0.000597  ,  0.00064492,  0.00066686,  0.00083899]),\n",
       " 'score_time': array([ 0.00161386,  0.00142622,  0.00121903,  0.00118303,  0.00170279]),\n",
       " 'test_accuracy': array([ 0.625 ,  0.625 ,  0.7375,  0.625 ,  0.625 ]),\n",
       " 'test_f1': array([ 0.76923077,  0.76923077,  0.73417722,  0.76923077,  0.76923077]),\n",
       " 'test_precision': array([ 0.625,  0.625,  1.   ,  0.625,  0.625]),\n",
       " 'test_recall': array([ 1.  ,  1.  ,  0.58,  1.  ,  1.  ]),\n",
       " 'train_accuracy': array([ 0.625,  0.625,  0.8  ,  0.625,  0.625]),\n",
       " 'train_f1': array([ 0.76923077,  0.76923077,  0.80952381,  0.76923077,  0.76923077]),\n",
       " 'train_precision': array([ 0.625,  0.625,  1.   ,  0.625,  0.625]),\n",
       " 'train_recall': array([ 1.  ,  1.  ,  0.68,  1.  ,  1.  ])}"
      ]
     },
     "execution_count": 19,
     "metadata": {},
     "output_type": "execute_result"
    }
   ],
   "source": [
    "score_perceptron = cross_validate(perceptron, x, y, cv=5, scoring=scoring)\n",
    "score_perceptron"
   ]
  },
  {
   "cell_type": "markdown",
   "metadata": {},
   "source": [
    "### linear SVM"
   ]
  },
  {
   "cell_type": "markdown",
   "metadata": {},
   "source": [
    "Tuning hyperparameter"
   ]
  },
  {
   "cell_type": "code",
   "execution_count": 20,
   "metadata": {},
   "outputs": [
    {
     "data": {
      "text/plain": [
       "GridSearchCV(cv=5, error_score='raise',\n",
       "       estimator=SVC(C=1.0, cache_size=200, class_weight=None, coef0=0.0,\n",
       "  decision_function_shape='ovr', degree=3, gamma='auto', kernel='rbf',\n",
       "  max_iter=-1, probability=False, random_state=None, shrinking=True,\n",
       "  tol=0.001, verbose=False),\n",
       "       fit_params=None, iid=True, n_jobs=1,\n",
       "       param_grid={'kernel': ['linear'], 'C': [1, 3, 5, 7, 10], 'gamma': [1, 0.1]},\n",
       "       pre_dispatch='2*n_jobs', refit=True, return_train_score='warn',\n",
       "       scoring='f1', verbose=0)"
      ]
     },
     "execution_count": 20,
     "metadata": {},
     "output_type": "execute_result"
    }
   ],
   "source": [
    "parameters_linearSVM = {'kernel': ['linear'],\n",
    "                        'C': [1, 3, 5, 7, 10], \n",
    "                        'gamma': [1, 0.1]}\n",
    "gscv_linearSVM = GridSearchCV(SVC(), parameters_linearSVM, cv=5, scoring='f1')\n",
    "gscv_linearSVM.fit(x, y)"
   ]
  },
  {
   "cell_type": "code",
   "execution_count": 21,
   "metadata": {},
   "outputs": [
    {
     "data": {
      "text/plain": [
       "{'C': 1, 'gamma': 1, 'kernel': 'linear'}"
      ]
     },
     "execution_count": 21,
     "metadata": {},
     "output_type": "execute_result"
    }
   ],
   "source": [
    "gscv_linearSVM.best_params_"
   ]
  },
  {
   "cell_type": "code",
   "execution_count": 22,
   "metadata": {},
   "outputs": [
    {
     "data": {
      "text/plain": [
       "0.98195792880258903"
      ]
     },
     "execution_count": 22,
     "metadata": {},
     "output_type": "execute_result"
    }
   ],
   "source": [
    "gscv_linearSVM.best_score_"
   ]
  },
  {
   "cell_type": "markdown",
   "metadata": {},
   "source": [
    "Cross validation"
   ]
  },
  {
   "cell_type": "code",
   "execution_count": 23,
   "metadata": {
    "collapsed": true
   },
   "outputs": [],
   "source": [
    "svc = SVC(kernel='linear', C=1, gamma=1)"
   ]
  },
  {
   "cell_type": "code",
   "execution_count": 24,
   "metadata": {},
   "outputs": [
    {
     "name": "stderr",
     "output_type": "stream",
     "text": [
      "/Applications/anaconda3/lib/python3.6/site-packages/sklearn/utils/deprecation.py:122: FutureWarning: You are accessing a training score ('train_accuracy'), which will not be available by default any more in 0.21. If you need training scores, please set return_train_score=True\n",
      "  warnings.warn(*warn_args, **warn_kwargs)\n",
      "/Applications/anaconda3/lib/python3.6/site-packages/sklearn/utils/deprecation.py:122: FutureWarning: You are accessing a training score ('train_f1'), which will not be available by default any more in 0.21. If you need training scores, please set return_train_score=True\n",
      "  warnings.warn(*warn_args, **warn_kwargs)\n",
      "/Applications/anaconda3/lib/python3.6/site-packages/sklearn/utils/deprecation.py:122: FutureWarning: You are accessing a training score ('train_precision'), which will not be available by default any more in 0.21. If you need training scores, please set return_train_score=True\n",
      "  warnings.warn(*warn_args, **warn_kwargs)\n",
      "/Applications/anaconda3/lib/python3.6/site-packages/sklearn/utils/deprecation.py:122: FutureWarning: You are accessing a training score ('train_recall'), which will not be available by default any more in 0.21. If you need training scores, please set return_train_score=True\n",
      "  warnings.warn(*warn_args, **warn_kwargs)\n"
     ]
    },
    {
     "data": {
      "text/plain": [
       "{'fit_time': array([ 6.79568219,  5.50897598,  1.23712015,  6.50045204,  3.24678183]),\n",
       " 'score_time': array([ 0.00169277,  0.00181103,  0.00165176,  0.00167203,  0.00178623]),\n",
       " 'test_accuracy': array([ 0.9375,  1.    ,  0.95  ,  1.    ,  1.    ]),\n",
       " 'test_f1': array([ 0.95145631,  1.        ,  0.95833333,  1.        ,  1.        ]),\n",
       " 'test_precision': array([ 0.9245283,  1.       ,  1.       ,  1.       ,  1.       ]),\n",
       " 'test_recall': array([ 0.98,  1.  ,  0.92,  1.  ,  1.  ]),\n",
       " 'train_accuracy': array([ 0.99375 ,  1.      ,  1.      ,  0.99375 ,  0.996875]),\n",
       " 'train_f1': array([ 0.99497487,  1.        ,  1.        ,  0.99497487,  0.99749373]),\n",
       " 'train_precision': array([ 1.,  1.,  1.,  1.,  1.]),\n",
       " 'train_recall': array([ 0.99 ,  1.   ,  1.   ,  0.99 ,  0.995])}"
      ]
     },
     "execution_count": 24,
     "metadata": {},
     "output_type": "execute_result"
    }
   ],
   "source": [
    "score_linearSVM = cross_validate(svc, x, y, cv=5, scoring=scoring)\n",
    "score_linearSVM"
   ]
  },
  {
   "cell_type": "markdown",
   "metadata": {},
   "source": [
    "### Polynomial SVM"
   ]
  },
  {
   "cell_type": "markdown",
   "metadata": {},
   "source": [
    "Tuning hyperparameter"
   ]
  },
  {
   "cell_type": "code",
   "execution_count": 25,
   "metadata": {},
   "outputs": [
    {
     "data": {
      "text/plain": [
       "GridSearchCV(cv=5, error_score='raise',\n",
       "       estimator=SVC(C=1.0, cache_size=200, class_weight=None, coef0=0.0,\n",
       "  decision_function_shape='ovr', degree=3, gamma='auto', kernel='rbf',\n",
       "  max_iter=-1, probability=False, random_state=None, shrinking=True,\n",
       "  tol=0.001, verbose=False),\n",
       "       fit_params=None, iid=True, n_jobs=1,\n",
       "       param_grid={'kernel': ['poly'], 'C': [1, 3, 5, 7, 10], 'gamma': [1, 0.1]},\n",
       "       pre_dispatch='2*n_jobs', refit=True, return_train_score='warn',\n",
       "       scoring='f1', verbose=0)"
      ]
     },
     "execution_count": 25,
     "metadata": {},
     "output_type": "execute_result"
    }
   ],
   "source": [
    "parameters_polySVM = {'kernel': ['poly'],\n",
    "                      'C': [1, 3, 5, 7, 10], \n",
    "                      'gamma': [1, 0.1]}\n",
    "gscv_polySVM = GridSearchCV(SVC(), parameters_polySVM, cv=5, scoring='f1')\n",
    "gscv_polySVM.fit(x, y)"
   ]
  },
  {
   "cell_type": "code",
   "execution_count": 26,
   "metadata": {},
   "outputs": [
    {
     "data": {
      "text/plain": [
       "{'C': 1, 'gamma': 0.1, 'kernel': 'poly'}"
      ]
     },
     "execution_count": 26,
     "metadata": {},
     "output_type": "execute_result"
    }
   ],
   "source": [
    "gscv_polySVM.best_params_"
   ]
  },
  {
   "cell_type": "code",
   "execution_count": 27,
   "metadata": {},
   "outputs": [
    {
     "data": {
      "text/plain": [
       "0.99381443298969074"
      ]
     },
     "execution_count": 27,
     "metadata": {},
     "output_type": "execute_result"
    }
   ],
   "source": [
    "gscv_polySVM.best_score_"
   ]
  },
  {
   "cell_type": "markdown",
   "metadata": {},
   "source": [
    "Cross validation"
   ]
  },
  {
   "cell_type": "code",
   "execution_count": 28,
   "metadata": {
    "collapsed": true
   },
   "outputs": [],
   "source": [
    "svc = SVC(kernel='poly', C=1, gamma=0.1)"
   ]
  },
  {
   "cell_type": "code",
   "execution_count": 29,
   "metadata": {},
   "outputs": [
    {
     "name": "stderr",
     "output_type": "stream",
     "text": [
      "/Applications/anaconda3/lib/python3.6/site-packages/sklearn/utils/deprecation.py:122: FutureWarning: You are accessing a training score ('train_accuracy'), which will not be available by default any more in 0.21. If you need training scores, please set return_train_score=True\n",
      "  warnings.warn(*warn_args, **warn_kwargs)\n",
      "/Applications/anaconda3/lib/python3.6/site-packages/sklearn/utils/deprecation.py:122: FutureWarning: You are accessing a training score ('train_f1'), which will not be available by default any more in 0.21. If you need training scores, please set return_train_score=True\n",
      "  warnings.warn(*warn_args, **warn_kwargs)\n",
      "/Applications/anaconda3/lib/python3.6/site-packages/sklearn/utils/deprecation.py:122: FutureWarning: You are accessing a training score ('train_precision'), which will not be available by default any more in 0.21. If you need training scores, please set return_train_score=True\n",
      "  warnings.warn(*warn_args, **warn_kwargs)\n",
      "/Applications/anaconda3/lib/python3.6/site-packages/sklearn/utils/deprecation.py:122: FutureWarning: You are accessing a training score ('train_recall'), which will not be available by default any more in 0.21. If you need training scores, please set return_train_score=True\n",
      "  warnings.warn(*warn_args, **warn_kwargs)\n"
     ]
    },
    {
     "data": {
      "text/plain": [
       "{'fit_time': array([  4.29343486,  16.86676931,   2.66897583,  10.20055318,  10.01472878]),\n",
       " 'score_time': array([ 0.00180316,  0.00172591,  0.00189328,  0.00173306,  0.00180006]),\n",
       " 'test_accuracy': array([ 1.    ,  1.    ,  0.9625,  1.    ,  1.    ]),\n",
       " 'test_f1': array([ 1.        ,  1.        ,  0.96907216,  1.        ,  1.        ]),\n",
       " 'test_precision': array([ 1.,  1.,  1.,  1.,  1.]),\n",
       " 'test_recall': array([ 1.  ,  1.  ,  0.94,  1.  ,  1.  ]),\n",
       " 'train_accuracy': array([ 1.,  1.,  1.,  1.,  1.]),\n",
       " 'train_f1': array([ 1.,  1.,  1.,  1.,  1.]),\n",
       " 'train_precision': array([ 1.,  1.,  1.,  1.,  1.]),\n",
       " 'train_recall': array([ 1.,  1.,  1.,  1.,  1.])}"
      ]
     },
     "execution_count": 29,
     "metadata": {},
     "output_type": "execute_result"
    }
   ],
   "source": [
    "score_polySVM = cross_validate(svc, x, y, cv=5, scoring=scoring)\n",
    "score_polySVM"
   ]
  },
  {
   "cell_type": "markdown",
   "metadata": {},
   "source": [
    "### Gaussian SVM"
   ]
  },
  {
   "cell_type": "markdown",
   "metadata": {},
   "source": [
    "Tuning hyperparameter"
   ]
  },
  {
   "cell_type": "code",
   "execution_count": 30,
   "metadata": {},
   "outputs": [
    {
     "data": {
      "text/plain": [
       "GridSearchCV(cv=5, error_score='raise',\n",
       "       estimator=SVC(C=1.0, cache_size=200, class_weight=None, coef0=0.0,\n",
       "  decision_function_shape='ovr', degree=3, gamma='auto', kernel='rbf',\n",
       "  max_iter=-1, probability=False, random_state=None, shrinking=True,\n",
       "  tol=0.001, verbose=False),\n",
       "       fit_params=None, iid=True, n_jobs=1,\n",
       "       param_grid={'kernel': ['rbf'], 'C': [1, 10, 100], 'gamma': [1, 0.1, 0.01]},\n",
       "       pre_dispatch='2*n_jobs', refit=True, return_train_score='warn',\n",
       "       scoring='f1', verbose=0)"
      ]
     },
     "execution_count": 30,
     "metadata": {},
     "output_type": "execute_result"
    }
   ],
   "source": [
    "parameters_rbfSVM = {'kernel': ['rbf'],\n",
    "                     'C': [1, 10, 100], \n",
    "                     'gamma': [1, 0.1, 0.01]}\n",
    "gscv_rbfSVM = GridSearchCV(SVC(), parameters_rbfSVM, cv=5, scoring='f1')\n",
    "gscv_rbfSVM.fit(x, y)"
   ]
  },
  {
   "cell_type": "code",
   "execution_count": 31,
   "metadata": {},
   "outputs": [
    {
     "data": {
      "text/plain": [
       "{'C': 1, 'gamma': 1, 'kernel': 'rbf'}"
      ]
     },
     "execution_count": 31,
     "metadata": {},
     "output_type": "execute_result"
    }
   ],
   "source": [
    "gscv_rbfSVM.best_params_"
   ]
  },
  {
   "cell_type": "code",
   "execution_count": 32,
   "metadata": {},
   "outputs": [
    {
     "data": {
      "text/plain": [
       "0.76923076923076916"
      ]
     },
     "execution_count": 32,
     "metadata": {},
     "output_type": "execute_result"
    }
   ],
   "source": [
    "gscv_rbfSVM.best_score_"
   ]
  },
  {
   "cell_type": "markdown",
   "metadata": {},
   "source": [
    "Cross validation"
   ]
  },
  {
   "cell_type": "code",
   "execution_count": 33,
   "metadata": {
    "collapsed": true
   },
   "outputs": [],
   "source": [
    "svc = SVC(kernel='rbf', C=1, gamma=1)"
   ]
  },
  {
   "cell_type": "code",
   "execution_count": 34,
   "metadata": {},
   "outputs": [
    {
     "name": "stderr",
     "output_type": "stream",
     "text": [
      "/Applications/anaconda3/lib/python3.6/site-packages/sklearn/utils/deprecation.py:122: FutureWarning: You are accessing a training score ('train_accuracy'), which will not be available by default any more in 0.21. If you need training scores, please set return_train_score=True\n",
      "  warnings.warn(*warn_args, **warn_kwargs)\n",
      "/Applications/anaconda3/lib/python3.6/site-packages/sklearn/utils/deprecation.py:122: FutureWarning: You are accessing a training score ('train_f1'), which will not be available by default any more in 0.21. If you need training scores, please set return_train_score=True\n",
      "  warnings.warn(*warn_args, **warn_kwargs)\n",
      "/Applications/anaconda3/lib/python3.6/site-packages/sklearn/utils/deprecation.py:122: FutureWarning: You are accessing a training score ('train_precision'), which will not be available by default any more in 0.21. If you need training scores, please set return_train_score=True\n",
      "  warnings.warn(*warn_args, **warn_kwargs)\n",
      "/Applications/anaconda3/lib/python3.6/site-packages/sklearn/utils/deprecation.py:122: FutureWarning: You are accessing a training score ('train_recall'), which will not be available by default any more in 0.21. If you need training scores, please set return_train_score=True\n",
      "  warnings.warn(*warn_args, **warn_kwargs)\n"
     ]
    },
    {
     "data": {
      "text/plain": [
       "{'fit_time': array([ 0.00610089,  0.00473285,  0.00472975,  0.00473809,  0.00472713]),\n",
       " 'score_time': array([ 0.00440884,  0.00437307,  0.004246  ,  0.00424695,  0.00427508]),\n",
       " 'test_accuracy': array([ 0.625,  0.625,  0.625,  0.625,  0.625]),\n",
       " 'test_f1': array([ 0.76923077,  0.76923077,  0.76923077,  0.76923077,  0.76923077]),\n",
       " 'test_precision': array([ 0.625,  0.625,  0.625,  0.625,  0.625]),\n",
       " 'test_recall': array([ 1.,  1.,  1.,  1.,  1.]),\n",
       " 'train_accuracy': array([ 1.,  1.,  1.,  1.,  1.]),\n",
       " 'train_f1': array([ 1.,  1.,  1.,  1.,  1.]),\n",
       " 'train_precision': array([ 1.,  1.,  1.,  1.,  1.]),\n",
       " 'train_recall': array([ 1.,  1.,  1.,  1.,  1.])}"
      ]
     },
     "execution_count": 34,
     "metadata": {},
     "output_type": "execute_result"
    }
   ],
   "source": [
    "score_gaussianSVM = cross_validate(svc, x, y, cv=5, scoring=scoring)\n",
    "score_gaussianSVM"
   ]
  },
  {
   "cell_type": "markdown",
   "metadata": {},
   "source": [
    "### Decision Tree"
   ]
  },
  {
   "cell_type": "markdown",
   "metadata": {},
   "source": [
    "Tuning hyperparameter"
   ]
  },
  {
   "cell_type": "code",
   "execution_count": 35,
   "metadata": {},
   "outputs": [
    {
     "data": {
      "text/plain": [
       "GridSearchCV(cv=5, error_score='raise',\n",
       "       estimator=DecisionTreeClassifier(class_weight=None, criterion='gini', max_depth=None,\n",
       "            max_features=None, max_leaf_nodes=None,\n",
       "            min_impurity_decrease=0.0, min_impurity_split=None,\n",
       "            min_samples_leaf=1, min_samples_split=2,\n",
       "            min_weight_fraction_leaf=0.0, presort=False, random_state=None,\n",
       "            splitter='best'),\n",
       "       fit_params=None, iid=True, n_jobs=1,\n",
       "       param_grid={'max_depth': [1, 2, 3, 4, 5, 10, 20, None]},\n",
       "       pre_dispatch='2*n_jobs', refit=True, return_train_score='warn',\n",
       "       scoring='f1', verbose=0)"
      ]
     },
     "execution_count": 35,
     "metadata": {},
     "output_type": "execute_result"
    }
   ],
   "source": [
    "parameters_dt = {'max_depth': [1, 2, 3, 4, 5, 10, 20, None]}\n",
    "gscv_dt = GridSearchCV(DecisionTreeClassifier(), parameters_dt, cv=5, scoring='f1')\n",
    "gscv_dt.fit(x, y)"
   ]
  },
  {
   "cell_type": "code",
   "execution_count": 36,
   "metadata": {},
   "outputs": [
    {
     "data": {
      "text/plain": [
       "{'max_depth': None}"
      ]
     },
     "execution_count": 36,
     "metadata": {},
     "output_type": "execute_result"
    }
   ],
   "source": [
    "gscv_dt.best_params_"
   ]
  },
  {
   "cell_type": "code",
   "execution_count": 37,
   "metadata": {},
   "outputs": [
    {
     "data": {
      "text/plain": [
       "0.99599959995999598"
      ]
     },
     "execution_count": 37,
     "metadata": {},
     "output_type": "execute_result"
    }
   ],
   "source": [
    "gscv_dt.best_score_"
   ]
  },
  {
   "cell_type": "markdown",
   "metadata": {},
   "source": [
    "Cross validation"
   ]
  },
  {
   "cell_type": "code",
   "execution_count": 38,
   "metadata": {
    "collapsed": true
   },
   "outputs": [],
   "source": [
    "dt = DecisionTreeClassifier(max_depth=3)"
   ]
  },
  {
   "cell_type": "code",
   "execution_count": 39,
   "metadata": {},
   "outputs": [
    {
     "name": "stderr",
     "output_type": "stream",
     "text": [
      "/Applications/anaconda3/lib/python3.6/site-packages/sklearn/utils/deprecation.py:122: FutureWarning: You are accessing a training score ('train_accuracy'), which will not be available by default any more in 0.21. If you need training scores, please set return_train_score=True\n",
      "  warnings.warn(*warn_args, **warn_kwargs)\n",
      "/Applications/anaconda3/lib/python3.6/site-packages/sklearn/utils/deprecation.py:122: FutureWarning: You are accessing a training score ('train_f1'), which will not be available by default any more in 0.21. If you need training scores, please set return_train_score=True\n",
      "  warnings.warn(*warn_args, **warn_kwargs)\n",
      "/Applications/anaconda3/lib/python3.6/site-packages/sklearn/utils/deprecation.py:122: FutureWarning: You are accessing a training score ('train_precision'), which will not be available by default any more in 0.21. If you need training scores, please set return_train_score=True\n",
      "  warnings.warn(*warn_args, **warn_kwargs)\n",
      "/Applications/anaconda3/lib/python3.6/site-packages/sklearn/utils/deprecation.py:122: FutureWarning: You are accessing a training score ('train_recall'), which will not be available by default any more in 0.21. If you need training scores, please set return_train_score=True\n",
      "  warnings.warn(*warn_args, **warn_kwargs)\n"
     ]
    },
    {
     "data": {
      "text/plain": [
       "{'fit_time': array([ 0.00136781,  0.00067592,  0.00064921,  0.00056124,  0.00096107]),\n",
       " 'score_time': array([ 0.00224996,  0.00132012,  0.00183487,  0.00174904,  0.00161982]),\n",
       " 'test_accuracy': array([ 0.9875,  1.    ,  0.9875,  1.    ,  1.    ]),\n",
       " 'test_f1': array([ 0.98989899,  1.        ,  0.99009901,  1.        ,  1.        ]),\n",
       " 'test_precision': array([ 1.        ,  1.        ,  0.98039216,  1.        ,  1.        ]),\n",
       " 'test_recall': array([ 0.98,  1.  ,  1.  ,  1.  ,  1.  ]),\n",
       " 'train_accuracy': array([ 1.      ,  1.      ,  1.      ,  1.      ,  0.996875]),\n",
       " 'train_f1': array([ 1.        ,  1.        ,  1.        ,  1.        ,  0.99749373]),\n",
       " 'train_precision': array([ 1.,  1.,  1.,  1.,  1.]),\n",
       " 'train_recall': array([ 1.   ,  1.   ,  1.   ,  1.   ,  0.995])}"
      ]
     },
     "execution_count": 39,
     "metadata": {},
     "output_type": "execute_result"
    }
   ],
   "source": [
    "score_dt = cross_validate(dt, x, y, cv=5, scoring=scoring)\n",
    "score_dt"
   ]
  },
  {
   "cell_type": "markdown",
   "metadata": {},
   "source": [
    "### Random Forest"
   ]
  },
  {
   "cell_type": "markdown",
   "metadata": {},
   "source": [
    "Tuning hyperparameter"
   ]
  },
  {
   "cell_type": "code",
   "execution_count": 40,
   "metadata": {},
   "outputs": [
    {
     "data": {
      "text/plain": [
       "GridSearchCV(cv=5, error_score='raise',\n",
       "       estimator=RandomForestClassifier(bootstrap=True, class_weight=None, criterion='gini',\n",
       "            max_depth=None, max_features='auto', max_leaf_nodes=None,\n",
       "            min_impurity_decrease=0.0, min_impurity_split=None,\n",
       "            min_samples_leaf=1, min_samples_split=2,\n",
       "            min_weight_fraction_leaf=0.0, n_estimators=10, n_jobs=1,\n",
       "            oob_score=False, random_state=None, verbose=0,\n",
       "            warm_start=False),\n",
       "       fit_params=None, iid=True, n_jobs=1,\n",
       "       param_grid={'max_depth': [None], 'n_estimators': [10, 50, 100, 200, 400, 800]},\n",
       "       pre_dispatch='2*n_jobs', refit=True, return_train_score='warn',\n",
       "       scoring='f1', verbose=0)"
      ]
     },
     "execution_count": 40,
     "metadata": {},
     "output_type": "execute_result"
    }
   ],
   "source": [
    "parameters_rf = {'max_depth': [None],\n",
    "                 'n_estimators': [10, 50, 100, 200, 400, 800]}\n",
    "gscv_rf = GridSearchCV(RandomForestClassifier(), parameters_rf, cv=5, scoring='f1')\n",
    "gscv_rf.fit(x, y)"
   ]
  },
  {
   "cell_type": "code",
   "execution_count": 41,
   "metadata": {},
   "outputs": [
    {
     "data": {
      "text/plain": [
       "{'max_depth': None, 'n_estimators': 10}"
      ]
     },
     "execution_count": 41,
     "metadata": {},
     "output_type": "execute_result"
    }
   ],
   "source": [
    "gscv_rf.best_params_"
   ]
  },
  {
   "cell_type": "code",
   "execution_count": 42,
   "metadata": {},
   "outputs": [
    {
     "data": {
      "text/plain": [
       "1.0"
      ]
     },
     "execution_count": 42,
     "metadata": {},
     "output_type": "execute_result"
    }
   ],
   "source": [
    "gscv_rf.best_score_"
   ]
  },
  {
   "cell_type": "markdown",
   "metadata": {},
   "source": [
    "Cross validation"
   ]
  },
  {
   "cell_type": "code",
   "execution_count": 43,
   "metadata": {
    "collapsed": true
   },
   "outputs": [],
   "source": [
    "rf = RandomForestClassifier(max_depth=None, n_estimators=50)"
   ]
  },
  {
   "cell_type": "code",
   "execution_count": 44,
   "metadata": {},
   "outputs": [
    {
     "name": "stderr",
     "output_type": "stream",
     "text": [
      "/Applications/anaconda3/lib/python3.6/site-packages/sklearn/utils/deprecation.py:122: FutureWarning: You are accessing a training score ('train_accuracy'), which will not be available by default any more in 0.21. If you need training scores, please set return_train_score=True\n",
      "  warnings.warn(*warn_args, **warn_kwargs)\n",
      "/Applications/anaconda3/lib/python3.6/site-packages/sklearn/utils/deprecation.py:122: FutureWarning: You are accessing a training score ('train_f1'), which will not be available by default any more in 0.21. If you need training scores, please set return_train_score=True\n",
      "  warnings.warn(*warn_args, **warn_kwargs)\n",
      "/Applications/anaconda3/lib/python3.6/site-packages/sklearn/utils/deprecation.py:122: FutureWarning: You are accessing a training score ('train_precision'), which will not be available by default any more in 0.21. If you need training scores, please set return_train_score=True\n",
      "  warnings.warn(*warn_args, **warn_kwargs)\n",
      "/Applications/anaconda3/lib/python3.6/site-packages/sklearn/utils/deprecation.py:122: FutureWarning: You are accessing a training score ('train_recall'), which will not be available by default any more in 0.21. If you need training scores, please set return_train_score=True\n",
      "  warnings.warn(*warn_args, **warn_kwargs)\n"
     ]
    },
    {
     "data": {
      "text/plain": [
       "{'fit_time': array([ 0.04970503,  0.04737616,  0.04748178,  0.04733324,  0.0520699 ]),\n",
       " 'score_time': array([ 0.01134396,  0.01126194,  0.01110291,  0.01141095,  0.01117301]),\n",
       " 'test_accuracy': array([ 1.,  1.,  1.,  1.,  1.]),\n",
       " 'test_f1': array([ 1.,  1.,  1.,  1.,  1.]),\n",
       " 'test_precision': array([ 1.,  1.,  1.,  1.,  1.]),\n",
       " 'test_recall': array([ 1.,  1.,  1.,  1.,  1.]),\n",
       " 'train_accuracy': array([ 1.,  1.,  1.,  1.,  1.]),\n",
       " 'train_f1': array([ 1.,  1.,  1.,  1.,  1.]),\n",
       " 'train_precision': array([ 1.,  1.,  1.,  1.,  1.]),\n",
       " 'train_recall': array([ 1.,  1.,  1.,  1.,  1.])}"
      ]
     },
     "execution_count": 44,
     "metadata": {},
     "output_type": "execute_result"
    }
   ],
   "source": [
    "score_rf = cross_validate(rf, x, y, cv=5, scoring=scoring)\n",
    "score_rf"
   ]
  },
  {
   "cell_type": "markdown",
   "metadata": {},
   "source": [
    "### XGBoost with decision tree"
   ]
  },
  {
   "cell_type": "markdown",
   "metadata": {},
   "source": [
    "Tuning hyperparameter"
   ]
  },
  {
   "cell_type": "code",
   "execution_count": 45,
   "metadata": {},
   "outputs": [
    {
     "data": {
      "text/plain": [
       "GridSearchCV(cv=5, error_score='raise',\n",
       "       estimator=XGBClassifier(base_score=0.5, booster='gbtree', colsample_bylevel=1,\n",
       "       colsample_bytree=1, gamma=0, learning_rate=0.1, max_delta_step=0,\n",
       "       max_depth=3, min_child_weight=1, missing=None, n_estimators=100,\n",
       "       n_jobs=1, nthread=None, objective='binary:logistic', random_state=0,\n",
       "       reg_alpha=0, reg_lambda=1, scale_pos_weight=1, seed=None,\n",
       "       silent=True, subsample=1),\n",
       "       fit_params=None, iid=True, n_jobs=1,\n",
       "       param_grid={'max_depth': [1, 2, 3, 4, 5, 10, 20, 40], 'learning_rate': [0.1, 0.01, 0.001], 'n_estimators': [10, 50, 100, 200, 500, 800]},\n",
       "       pre_dispatch='2*n_jobs', refit=True, return_train_score='warn',\n",
       "       scoring='f1', verbose=0)"
      ]
     },
     "execution_count": 45,
     "metadata": {},
     "output_type": "execute_result"
    }
   ],
   "source": [
    "parameters_xgbdt = {'max_depth': [1, 2, 3, 4, 5, 10, 20, 40], \n",
    "                  'learning_rate': [0.1, 0.01, 0.001],\n",
    "                  'n_estimators': [10, 50, 100, 200, 500, 800]}\n",
    "gscv_xgbdt = GridSearchCV(XGBClassifier(), parameters_xgbdt, cv=5, scoring='f1')\n",
    "gscv_xgbdt.fit(x, y)"
   ]
  },
  {
   "cell_type": "code",
   "execution_count": 46,
   "metadata": {},
   "outputs": [
    {
     "data": {
      "text/plain": [
       "{'learning_rate': 0.1, 'max_depth': 1, 'n_estimators': 100}"
      ]
     },
     "execution_count": 46,
     "metadata": {},
     "output_type": "execute_result"
    }
   ],
   "source": [
    "gscv_xgbdt.best_params_"
   ]
  },
  {
   "cell_type": "code",
   "execution_count": 47,
   "metadata": {},
   "outputs": [
    {
     "data": {
      "text/plain": [
       "0.99797979797979797"
      ]
     },
     "execution_count": 47,
     "metadata": {},
     "output_type": "execute_result"
    }
   ],
   "source": [
    "gscv_xgbdt.best_score_"
   ]
  },
  {
   "cell_type": "markdown",
   "metadata": {},
   "source": [
    "Cross validation"
   ]
  },
  {
   "cell_type": "code",
   "execution_count": 48,
   "metadata": {
    "collapsed": true
   },
   "outputs": [],
   "source": [
    "xgbdt = XGBClassifier(learning_rate=0.1, max_depth=1, n_estimators=100)"
   ]
  },
  {
   "cell_type": "code",
   "execution_count": 49,
   "metadata": {},
   "outputs": [
    {
     "name": "stderr",
     "output_type": "stream",
     "text": [
      "/Applications/anaconda3/lib/python3.6/site-packages/sklearn/utils/deprecation.py:122: FutureWarning: You are accessing a training score ('train_accuracy'), which will not be available by default any more in 0.21. If you need training scores, please set return_train_score=True\n",
      "  warnings.warn(*warn_args, **warn_kwargs)\n",
      "/Applications/anaconda3/lib/python3.6/site-packages/sklearn/utils/deprecation.py:122: FutureWarning: You are accessing a training score ('train_f1'), which will not be available by default any more in 0.21. If you need training scores, please set return_train_score=True\n",
      "  warnings.warn(*warn_args, **warn_kwargs)\n",
      "/Applications/anaconda3/lib/python3.6/site-packages/sklearn/utils/deprecation.py:122: FutureWarning: You are accessing a training score ('train_precision'), which will not be available by default any more in 0.21. If you need training scores, please set return_train_score=True\n",
      "  warnings.warn(*warn_args, **warn_kwargs)\n",
      "/Applications/anaconda3/lib/python3.6/site-packages/sklearn/utils/deprecation.py:122: FutureWarning: You are accessing a training score ('train_recall'), which will not be available by default any more in 0.21. If you need training scores, please set return_train_score=True\n",
      "  warnings.warn(*warn_args, **warn_kwargs)\n"
     ]
    },
    {
     "data": {
      "text/plain": [
       "{'fit_time': array([ 0.01364779,  0.01146984,  0.01143694,  0.01318288,  0.01163197]),\n",
       " 'score_time': array([ 0.0021131 ,  0.00199223,  0.00200701,  0.00199819,  0.00201797]),\n",
       " 'test_accuracy': array([ 0.9875,  1.    ,  1.    ,  1.    ,  1.    ]),\n",
       " 'test_f1': array([ 0.98989899,  1.        ,  1.        ,  1.        ,  1.        ]),\n",
       " 'test_precision': array([ 1.,  1.,  1.,  1.,  1.]),\n",
       " 'test_recall': array([ 0.98,  1.  ,  1.  ,  1.  ,  1.  ]),\n",
       " 'train_accuracy': array([ 1.,  1.,  1.,  1.,  1.]),\n",
       " 'train_f1': array([ 1.,  1.,  1.,  1.,  1.]),\n",
       " 'train_precision': array([ 1.,  1.,  1.,  1.,  1.]),\n",
       " 'train_recall': array([ 1.,  1.,  1.,  1.,  1.])}"
      ]
     },
     "execution_count": 49,
     "metadata": {},
     "output_type": "execute_result"
    }
   ],
   "source": [
    "score_xgbdt = cross_validate(xgbdt, x, y, cv=5, scoring=scoring)\n",
    "score_xgbdt"
   ]
  },
  {
   "cell_type": "markdown",
   "metadata": {},
   "source": [
    "### XGBoost with linear classifier"
   ]
  },
  {
   "cell_type": "markdown",
   "metadata": {},
   "source": [
    "Tuning hyperparameter"
   ]
  },
  {
   "cell_type": "code",
   "execution_count": 50,
   "metadata": {},
   "outputs": [
    {
     "data": {
      "text/plain": [
       "GridSearchCV(cv=5, error_score='raise',\n",
       "       estimator=XGBClassifier(base_score=0.5, booster='gblinear', colsample_bylevel=1,\n",
       "       colsample_bytree=1, gamma=0, learning_rate=0.1, max_delta_step=0,\n",
       "       max_depth=3, min_child_weight=1, missing=None, n_estimators=100,\n",
       "       n_jobs=1, nthread=None, objective='binary:logistic', random_state=0,\n",
       "       reg_alpha=0, reg_lambda=1, scale_pos_weight=1, seed=None,\n",
       "       silent=True, subsample=1),\n",
       "       fit_params=None, iid=True, n_jobs=1,\n",
       "       param_grid={'max_depth': [1, 2, 3, 4, 5, 10, 20, 40], 'learning_rate': [0.1, 0.01, 0.001], 'n_estimators': [10, 50, 100, 200, 500, 800]},\n",
       "       pre_dispatch='2*n_jobs', refit=True, return_train_score='warn',\n",
       "       scoring='f1', verbose=0)"
      ]
     },
     "execution_count": 50,
     "metadata": {},
     "output_type": "execute_result"
    }
   ],
   "source": [
    "parameters_xgblc = {'max_depth': [1, 2, 3, 4, 5, 10, 20, 40], \n",
    "                   'learning_rate': [0.1, 0.01, 0.001],\n",
    "                   'n_estimators': [10, 50, 100, 200, 500, 800]}\n",
    "gscv_xgblc = GridSearchCV(XGBClassifier(booster='gblinear'), parameters_xgblc, cv=5, scoring='f1')\n",
    "gscv_xgblc.fit(x, y)"
   ]
  },
  {
   "cell_type": "code",
   "execution_count": 51,
   "metadata": {},
   "outputs": [
    {
     "data": {
      "text/plain": [
       "{'learning_rate': 0.1, 'max_depth': 1, 'n_estimators': 50}"
      ]
     },
     "execution_count": 51,
     "metadata": {},
     "output_type": "execute_result"
    }
   ],
   "source": [
    "gscv_xgblc.best_params_"
   ]
  },
  {
   "cell_type": "code",
   "execution_count": 52,
   "metadata": {},
   "outputs": [
    {
     "data": {
      "text/plain": [
       "0.99797979797979797"
      ]
     },
     "execution_count": 52,
     "metadata": {},
     "output_type": "execute_result"
    }
   ],
   "source": [
    "gscv_xgblc.best_score_"
   ]
  },
  {
   "cell_type": "markdown",
   "metadata": {},
   "source": [
    "Cross validation"
   ]
  },
  {
   "cell_type": "code",
   "execution_count": 53,
   "metadata": {
    "collapsed": true
   },
   "outputs": [],
   "source": [
    "xgblc = XGBClassifier(booster='gblinear', learning_rate=0.1, max_depth=1, n_estimators=50)"
   ]
  },
  {
   "cell_type": "code",
   "execution_count": 54,
   "metadata": {},
   "outputs": [
    {
     "name": "stderr",
     "output_type": "stream",
     "text": [
      "/Applications/anaconda3/lib/python3.6/site-packages/sklearn/utils/deprecation.py:122: FutureWarning: You are accessing a training score ('train_accuracy'), which will not be available by default any more in 0.21. If you need training scores, please set return_train_score=True\n",
      "  warnings.warn(*warn_args, **warn_kwargs)\n",
      "/Applications/anaconda3/lib/python3.6/site-packages/sklearn/utils/deprecation.py:122: FutureWarning: You are accessing a training score ('train_f1'), which will not be available by default any more in 0.21. If you need training scores, please set return_train_score=True\n",
      "  warnings.warn(*warn_args, **warn_kwargs)\n",
      "/Applications/anaconda3/lib/python3.6/site-packages/sklearn/utils/deprecation.py:122: FutureWarning: You are accessing a training score ('train_precision'), which will not be available by default any more in 0.21. If you need training scores, please set return_train_score=True\n",
      "  warnings.warn(*warn_args, **warn_kwargs)\n",
      "/Applications/anaconda3/lib/python3.6/site-packages/sklearn/utils/deprecation.py:122: FutureWarning: You are accessing a training score ('train_recall'), which will not be available by default any more in 0.21. If you need training scores, please set return_train_score=True\n",
      "  warnings.warn(*warn_args, **warn_kwargs)\n"
     ]
    },
    {
     "data": {
      "text/plain": [
       "{'fit_time': array([ 0.00504827,  0.00509405,  0.00419998,  0.0041039 ,  0.00412393]),\n",
       " 'score_time': array([ 0.00191092,  0.0018611 ,  0.00171709,  0.00170708,  0.00169492]),\n",
       " 'test_accuracy': array([ 1.    ,  1.    ,  0.9875,  1.    ,  1.    ]),\n",
       " 'test_f1': array([ 1.        ,  1.        ,  0.98989899,  1.        ,  1.        ]),\n",
       " 'test_precision': array([ 1.,  1.,  1.,  1.,  1.]),\n",
       " 'test_recall': array([ 1.  ,  1.  ,  0.98,  1.  ,  1.  ]),\n",
       " 'train_accuracy': array([ 0.996875,  1.      ,  1.      ,  1.      ,  1.      ]),\n",
       " 'train_f1': array([ 0.99749373,  1.        ,  1.        ,  1.        ,  1.        ]),\n",
       " 'train_precision': array([ 1.,  1.,  1.,  1.,  1.]),\n",
       " 'train_recall': array([ 0.995,  1.   ,  1.   ,  1.   ,  1.   ])}"
      ]
     },
     "execution_count": 54,
     "metadata": {},
     "output_type": "execute_result"
    }
   ],
   "source": [
    "score_xgblc = cross_validate(xgblc, x, y, cv=5, scoring=scoring)\n",
    "score_xgblc"
   ]
  },
  {
   "cell_type": "markdown",
   "metadata": {},
   "source": [
    "### Adaboost with decision tree"
   ]
  },
  {
   "cell_type": "markdown",
   "metadata": {},
   "source": [
    "Tuning hyperparameter"
   ]
  },
  {
   "cell_type": "code",
   "execution_count": 55,
   "metadata": {},
   "outputs": [
    {
     "data": {
      "text/plain": [
       "GridSearchCV(cv=5, error_score='raise',\n",
       "       estimator=AdaBoostClassifier(algorithm='SAMME.R', base_estimator=None,\n",
       "          learning_rate=1.0, n_estimators=50, random_state=None),\n",
       "       fit_params=None, iid=True, n_jobs=1,\n",
       "       param_grid={'learning_rate': [0.1, 0.01, 0.001], 'n_estimators': [10, 50, 100, 200, 500, 800]},\n",
       "       pre_dispatch='2*n_jobs', refit=True, return_train_score='warn',\n",
       "       scoring='f1', verbose=0)"
      ]
     },
     "execution_count": 55,
     "metadata": {},
     "output_type": "execute_result"
    }
   ],
   "source": [
    "parameters_adadt = {'learning_rate': [0.1, 0.01, 0.001],\n",
    "                 'n_estimators': [10, 50, 100, 200, 500, 800]}\n",
    "gscv_adadt = GridSearchCV(AdaBoostClassifier(), parameters_adadt, cv=5, scoring='f1')\n",
    "gscv_adadt.fit(x, y)"
   ]
  },
  {
   "cell_type": "code",
   "execution_count": 56,
   "metadata": {},
   "outputs": [
    {
     "data": {
      "text/plain": [
       "{'learning_rate': 0.1, 'n_estimators': 50}"
      ]
     },
     "execution_count": 56,
     "metadata": {},
     "output_type": "execute_result"
    }
   ],
   "source": [
    "gscv_adadt.best_params_"
   ]
  },
  {
   "cell_type": "code",
   "execution_count": 57,
   "metadata": {},
   "outputs": [
    {
     "data": {
      "text/plain": [
       "0.99797979797979797"
      ]
     },
     "execution_count": 57,
     "metadata": {},
     "output_type": "execute_result"
    }
   ],
   "source": [
    "gscv_adadt.best_score_"
   ]
  },
  {
   "cell_type": "markdown",
   "metadata": {},
   "source": [
    "Cross validation"
   ]
  },
  {
   "cell_type": "code",
   "execution_count": 58,
   "metadata": {
    "collapsed": true
   },
   "outputs": [],
   "source": [
    "adadt = AdaBoostClassifier(learning_rate=0.1, n_estimators=50)"
   ]
  },
  {
   "cell_type": "code",
   "execution_count": 59,
   "metadata": {},
   "outputs": [
    {
     "name": "stderr",
     "output_type": "stream",
     "text": [
      "/Applications/anaconda3/lib/python3.6/site-packages/sklearn/utils/deprecation.py:122: FutureWarning: You are accessing a training score ('train_accuracy'), which will not be available by default any more in 0.21. If you need training scores, please set return_train_score=True\n",
      "  warnings.warn(*warn_args, **warn_kwargs)\n",
      "/Applications/anaconda3/lib/python3.6/site-packages/sklearn/utils/deprecation.py:122: FutureWarning: You are accessing a training score ('train_f1'), which will not be available by default any more in 0.21. If you need training scores, please set return_train_score=True\n",
      "  warnings.warn(*warn_args, **warn_kwargs)\n",
      "/Applications/anaconda3/lib/python3.6/site-packages/sklearn/utils/deprecation.py:122: FutureWarning: You are accessing a training score ('train_precision'), which will not be available by default any more in 0.21. If you need training scores, please set return_train_score=True\n",
      "  warnings.warn(*warn_args, **warn_kwargs)\n",
      "/Applications/anaconda3/lib/python3.6/site-packages/sklearn/utils/deprecation.py:122: FutureWarning: You are accessing a training score ('train_recall'), which will not be available by default any more in 0.21. If you need training scores, please set return_train_score=True\n",
      "  warnings.warn(*warn_args, **warn_kwargs)\n"
     ]
    },
    {
     "data": {
      "text/plain": [
       "{'fit_time': array([ 0.06186581,  0.06057024,  0.06006789,  0.0606637 ,  0.05949807]),\n",
       " 'score_time': array([ 0.01413608,  0.0141449 ,  0.01416492,  0.01438212,  0.01430607]),\n",
       " 'test_accuracy': array([ 0.9875,  1.    ,  1.    ,  1.    ,  1.    ]),\n",
       " 'test_f1': array([ 0.98989899,  1.        ,  1.        ,  1.        ,  1.        ]),\n",
       " 'test_precision': array([ 1.,  1.,  1.,  1.,  1.]),\n",
       " 'test_recall': array([ 0.98,  1.  ,  1.  ,  1.  ,  1.  ]),\n",
       " 'train_accuracy': array([ 1.,  1.,  1.,  1.,  1.]),\n",
       " 'train_f1': array([ 1.,  1.,  1.,  1.,  1.]),\n",
       " 'train_precision': array([ 1.,  1.,  1.,  1.,  1.]),\n",
       " 'train_recall': array([ 1.,  1.,  1.,  1.,  1.])}"
      ]
     },
     "execution_count": 59,
     "metadata": {},
     "output_type": "execute_result"
    }
   ],
   "source": [
    "score_adadt = cross_validate(adadt, x, y, cv=5, scoring=scoring)\n",
    "score_adadt"
   ]
  },
  {
   "cell_type": "markdown",
   "metadata": {},
   "source": [
    "### Adaboost with linear classifier"
   ]
  },
  {
   "cell_type": "markdown",
   "metadata": {},
   "source": [
    "Tuning hyperparameter"
   ]
  },
  {
   "cell_type": "code",
   "execution_count": 60,
   "metadata": {},
   "outputs": [
    {
     "data": {
      "text/plain": [
       "GridSearchCV(cv=5, error_score='raise',\n",
       "       estimator=AdaBoostClassifier(algorithm='SAMME.R',\n",
       "          base_estimator=LogisticRegression(C=1.0, class_weight=None, dual=False, fit_intercept=True,\n",
       "          intercept_scaling=1, max_iter=100, multi_class='ovr', n_jobs=1,\n",
       "          penalty='l2', random_state=None, solver='liblinear', tol=0.0001,\n",
       "          verbose=0, warm_start=False),\n",
       "          learning_rate=1.0, n_estimators=50, random_state=None),\n",
       "       fit_params=None, iid=True, n_jobs=1,\n",
       "       param_grid={'learning_rate': [0.1, 0.01, 0.001], 'n_estimators': [10, 50, 100, 200, 500, 800]},\n",
       "       pre_dispatch='2*n_jobs', refit=True, return_train_score='warn',\n",
       "       scoring='f1', verbose=0)"
      ]
     },
     "execution_count": 60,
     "metadata": {},
     "output_type": "execute_result"
    }
   ],
   "source": [
    "parameters_adalc = {'learning_rate': [0.1, 0.01, 0.001],\n",
    "                  'n_estimators': [10, 50, 100, 200, 500, 800]}\n",
    "gscv_adalc = GridSearchCV(AdaBoostClassifier(base_estimator=LogisticRegression()), parameters_adalc, cv=5, scoring='f1')\n",
    "gscv_adalc.fit(x, y)"
   ]
  },
  {
   "cell_type": "code",
   "execution_count": 61,
   "metadata": {},
   "outputs": [
    {
     "data": {
      "text/plain": [
       "{'learning_rate': 0.1, 'n_estimators': 50}"
      ]
     },
     "execution_count": 61,
     "metadata": {},
     "output_type": "execute_result"
    }
   ],
   "source": [
    "gscv_adalc.best_params_"
   ]
  },
  {
   "cell_type": "code",
   "execution_count": 62,
   "metadata": {},
   "outputs": [
    {
     "data": {
      "text/plain": [
       "0.98745348219032436"
      ]
     },
     "execution_count": 62,
     "metadata": {},
     "output_type": "execute_result"
    }
   ],
   "source": [
    "gscv_adalc.best_score_"
   ]
  },
  {
   "cell_type": "markdown",
   "metadata": {},
   "source": [
    "Cross validation"
   ]
  },
  {
   "cell_type": "code",
   "execution_count": 63,
   "metadata": {
    "collapsed": true
   },
   "outputs": [],
   "source": [
    "adalc = AdaBoostClassifier(base_estimator=LogisticRegression(), learning_rate=0.1, n_estimators=50)"
   ]
  },
  {
   "cell_type": "code",
   "execution_count": 64,
   "metadata": {},
   "outputs": [
    {
     "name": "stderr",
     "output_type": "stream",
     "text": [
      "/Applications/anaconda3/lib/python3.6/site-packages/sklearn/utils/deprecation.py:122: FutureWarning: You are accessing a training score ('train_accuracy'), which will not be available by default any more in 0.21. If you need training scores, please set return_train_score=True\n",
      "  warnings.warn(*warn_args, **warn_kwargs)\n",
      "/Applications/anaconda3/lib/python3.6/site-packages/sklearn/utils/deprecation.py:122: FutureWarning: You are accessing a training score ('train_f1'), which will not be available by default any more in 0.21. If you need training scores, please set return_train_score=True\n",
      "  warnings.warn(*warn_args, **warn_kwargs)\n",
      "/Applications/anaconda3/lib/python3.6/site-packages/sklearn/utils/deprecation.py:122: FutureWarning: You are accessing a training score ('train_precision'), which will not be available by default any more in 0.21. If you need training scores, please set return_train_score=True\n",
      "  warnings.warn(*warn_args, **warn_kwargs)\n",
      "/Applications/anaconda3/lib/python3.6/site-packages/sklearn/utils/deprecation.py:122: FutureWarning: You are accessing a training score ('train_recall'), which will not be available by default any more in 0.21. If you need training scores, please set return_train_score=True\n",
      "  warnings.warn(*warn_args, **warn_kwargs)\n"
     ]
    },
    {
     "data": {
      "text/plain": [
       "{'fit_time': array([ 0.12772512,  0.13017702,  0.08232713,  0.12368298,  0.13109708]),\n",
       " 'score_time': array([ 0.01410198,  0.01413608,  0.01057506,  0.01811194,  0.01412892]),\n",
       " 'test_accuracy': array([ 0.9875,  1.    ,  0.9375,  1.    ,  1.    ]),\n",
       " 'test_f1': array([ 0.98989899,  1.        ,  0.94736842,  1.        ,  1.        ]),\n",
       " 'test_precision': array([ 1.,  1.,  1.,  1.,  1.]),\n",
       " 'test_recall': array([ 0.98,  1.  ,  0.9 ,  1.  ,  1.  ]),\n",
       " 'train_accuracy': array([ 0.996875,  0.99375 ,  0.990625,  0.99375 ,  0.990625]),\n",
       " 'train_f1': array([ 0.99749373,  0.99497487,  0.9924812 ,  0.99497487,  0.99244332]),\n",
       " 'train_precision': array([ 1.        ,  1.        ,  0.99497487,  1.        ,  1.        ]),\n",
       " 'train_recall': array([ 0.995,  0.99 ,  0.99 ,  0.99 ,  0.985])}"
      ]
     },
     "execution_count": 64,
     "metadata": {},
     "output_type": "execute_result"
    }
   ],
   "source": [
    "score_adalc = cross_validate(adalc, x, y, cv=5, scoring=scoring)\n",
    "score_adalc"
   ]
  },
  {
   "cell_type": "markdown",
   "metadata": {},
   "source": [
    "### Bagging with decision tree"
   ]
  },
  {
   "cell_type": "markdown",
   "metadata": {},
   "source": [
    "Tuning hyperparameter"
   ]
  },
  {
   "cell_type": "code",
   "execution_count": 65,
   "metadata": {},
   "outputs": [
    {
     "data": {
      "text/plain": [
       "GridSearchCV(cv=5, error_score='raise',\n",
       "       estimator=BaggingClassifier(base_estimator=None, bootstrap=True,\n",
       "         bootstrap_features=False, max_features=1.0, max_samples=1.0,\n",
       "         n_estimators=10, n_jobs=1, oob_score=False, random_state=None,\n",
       "         verbose=0, warm_start=False),\n",
       "       fit_params=None, iid=True, n_jobs=1,\n",
       "       param_grid={'n_estimators': [10, 50, 100, 200, 500, 800], 'max_samples': [0.1, 0.3, 0.6, 1.0], 'max_features': [0.1, 0.3, 0.6, 1.0]},\n",
       "       pre_dispatch='2*n_jobs', refit=True, return_train_score='warn',\n",
       "       scoring='f1', verbose=0)"
      ]
     },
     "execution_count": 65,
     "metadata": {},
     "output_type": "execute_result"
    }
   ],
   "source": [
    "parameters_bagdt = {'n_estimators': [10, 50, 100, 200, 500, 800], \n",
    "                  'max_samples': [0.1, 0.3, 0.6, 1.0], \n",
    "                  'max_features': [0.1, 0.3, 0.6, 1.0]}\n",
    "gscv_bagdt = GridSearchCV(BaggingClassifier(), parameters_bagdt, cv=5, scoring='f1')\n",
    "gscv_bagdt.fit(x, y)"
   ]
  },
  {
   "cell_type": "code",
   "execution_count": 66,
   "metadata": {},
   "outputs": [
    {
     "data": {
      "text/plain": [
       "{'max_features': 0.1, 'max_samples': 0.1, 'n_estimators': 500}"
      ]
     },
     "execution_count": 66,
     "metadata": {},
     "output_type": "execute_result"
    }
   ],
   "source": [
    "gscv_bagdt.best_params_"
   ]
  },
  {
   "cell_type": "code",
   "execution_count": 67,
   "metadata": {},
   "outputs": [
    {
     "data": {
      "text/plain": [
       "1.0"
      ]
     },
     "execution_count": 67,
     "metadata": {},
     "output_type": "execute_result"
    }
   ],
   "source": [
    "gscv_bagdt.best_score_"
   ]
  },
  {
   "cell_type": "markdown",
   "metadata": {},
   "source": [
    "Cross validation"
   ]
  },
  {
   "cell_type": "code",
   "execution_count": 68,
   "metadata": {
    "collapsed": true
   },
   "outputs": [],
   "source": [
    "bagdt = BaggingClassifier(max_features=0.1, max_samples=0.1, n_estimators=50)"
   ]
  },
  {
   "cell_type": "code",
   "execution_count": 69,
   "metadata": {},
   "outputs": [
    {
     "name": "stderr",
     "output_type": "stream",
     "text": [
      "/Applications/anaconda3/lib/python3.6/site-packages/sklearn/utils/deprecation.py:122: FutureWarning: You are accessing a training score ('train_accuracy'), which will not be available by default any more in 0.21. If you need training scores, please set return_train_score=True\n",
      "  warnings.warn(*warn_args, **warn_kwargs)\n",
      "/Applications/anaconda3/lib/python3.6/site-packages/sklearn/utils/deprecation.py:122: FutureWarning: You are accessing a training score ('train_f1'), which will not be available by default any more in 0.21. If you need training scores, please set return_train_score=True\n",
      "  warnings.warn(*warn_args, **warn_kwargs)\n",
      "/Applications/anaconda3/lib/python3.6/site-packages/sklearn/utils/deprecation.py:122: FutureWarning: You are accessing a training score ('train_precision'), which will not be available by default any more in 0.21. If you need training scores, please set return_train_score=True\n",
      "  warnings.warn(*warn_args, **warn_kwargs)\n",
      "/Applications/anaconda3/lib/python3.6/site-packages/sklearn/utils/deprecation.py:122: FutureWarning: You are accessing a training score ('train_recall'), which will not be available by default any more in 0.21. If you need training scores, please set return_train_score=True\n",
      "  warnings.warn(*warn_args, **warn_kwargs)\n"
     ]
    },
    {
     "data": {
      "text/plain": [
       "{'fit_time': array([ 0.04907513,  0.04499507,  0.04146934,  0.04176807,  0.04419899]),\n",
       " 'score_time': array([ 0.01443887,  0.01113892,  0.0128119 ,  0.01257896,  0.01220822]),\n",
       " 'test_accuracy': array([ 1.,  1.,  1.,  1.,  1.]),\n",
       " 'test_f1': array([ 1.,  1.,  1.,  1.,  1.]),\n",
       " 'test_precision': array([ 1.,  1.,  1.,  1.,  1.]),\n",
       " 'test_recall': array([ 1.,  1.,  1.,  1.,  1.]),\n",
       " 'train_accuracy': array([ 0.99375 ,  0.996875,  0.99375 ,  0.996875,  1.      ]),\n",
       " 'train_f1': array([ 0.995     ,  0.99749373,  0.99497487,  0.99750623,  1.        ]),\n",
       " 'train_precision': array([ 0.995     ,  1.        ,  1.        ,  0.99502488,  1.        ]),\n",
       " 'train_recall': array([ 0.995,  0.995,  0.99 ,  1.   ,  1.   ])}"
      ]
     },
     "execution_count": 69,
     "metadata": {},
     "output_type": "execute_result"
    }
   ],
   "source": [
    "score_bagdt = cross_validate(bagdt, x, y, cv=5, scoring=scoring)\n",
    "score_bagdt"
   ]
  },
  {
   "cell_type": "markdown",
   "metadata": {},
   "source": [
    "### Bagging with logistic regression"
   ]
  },
  {
   "cell_type": "markdown",
   "metadata": {},
   "source": [
    "Tuning hyperparameter"
   ]
  },
  {
   "cell_type": "code",
   "execution_count": 70,
   "metadata": {},
   "outputs": [
    {
     "data": {
      "text/plain": [
       "GridSearchCV(cv=5, error_score='raise',\n",
       "       estimator=BaggingClassifier(base_estimator=LogisticRegression(C=1.0, class_weight=None, dual=False, fit_intercept=True,\n",
       "          intercept_scaling=1, max_iter=100, multi_class='ovr', n_jobs=1,\n",
       "          penalty='l2', random_state=None, solver='liblinear', tol=0.0001,\n",
       "          verbose=0, warm_start...n_estimators=10, n_jobs=1, oob_score=False,\n",
       "         random_state=None, verbose=0, warm_start=False),\n",
       "       fit_params=None, iid=True, n_jobs=1,\n",
       "       param_grid={'n_estimators': [10, 50, 100, 200, 500, 800], 'max_samples': [0.1, 0.3, 0.6, 1.0], 'max_features': [0.1, 0.3, 0.6, 1.0]},\n",
       "       pre_dispatch='2*n_jobs', refit=True, return_train_score='warn',\n",
       "       scoring='f1', verbose=0)"
      ]
     },
     "execution_count": 70,
     "metadata": {},
     "output_type": "execute_result"
    }
   ],
   "source": [
    "parameters_baglr = {'n_estimators': [10, 50, 100, 200, 500, 800], \n",
    "                  'max_samples': [0.1, 0.3, 0.6, 1.0], \n",
    "                  'max_features': [0.1, 0.3, 0.6, 1.0]}\n",
    "gscv_baglr = GridSearchCV(BaggingClassifier(base_estimator=LogisticRegression()), parameters_baglr, cv=5, scoring='f1')\n",
    "gscv_baglr.fit(x, y)"
   ]
  },
  {
   "cell_type": "code",
   "execution_count": 71,
   "metadata": {},
   "outputs": [
    {
     "data": {
      "text/plain": [
       "{'max_features': 0.3, 'max_samples': 0.1, 'n_estimators': 100}"
      ]
     },
     "execution_count": 71,
     "metadata": {},
     "output_type": "execute_result"
    }
   ],
   "source": [
    "gscv_baglr.best_params_"
   ]
  },
  {
   "cell_type": "code",
   "execution_count": 72,
   "metadata": {},
   "outputs": [
    {
     "data": {
      "text/plain": [
       "0.99381443298969074"
      ]
     },
     "execution_count": 72,
     "metadata": {},
     "output_type": "execute_result"
    }
   ],
   "source": [
    "gscv_baglr.best_score_"
   ]
  },
  {
   "cell_type": "markdown",
   "metadata": {},
   "source": [
    "Cross validation"
   ]
  },
  {
   "cell_type": "code",
   "execution_count": 73,
   "metadata": {
    "collapsed": true
   },
   "outputs": [],
   "source": [
    "baglr = BaggingClassifier(base_estimator=LogisticRegression(), max_features=0.3, max_samples=0.6, n_estimators=10)"
   ]
  },
  {
   "cell_type": "code",
   "execution_count": 74,
   "metadata": {},
   "outputs": [
    {
     "name": "stderr",
     "output_type": "stream",
     "text": [
      "/Applications/anaconda3/lib/python3.6/site-packages/sklearn/utils/deprecation.py:122: FutureWarning: You are accessing a training score ('train_accuracy'), which will not be available by default any more in 0.21. If you need training scores, please set return_train_score=True\n",
      "  warnings.warn(*warn_args, **warn_kwargs)\n",
      "/Applications/anaconda3/lib/python3.6/site-packages/sklearn/utils/deprecation.py:122: FutureWarning: You are accessing a training score ('train_f1'), which will not be available by default any more in 0.21. If you need training scores, please set return_train_score=True\n",
      "  warnings.warn(*warn_args, **warn_kwargs)\n",
      "/Applications/anaconda3/lib/python3.6/site-packages/sklearn/utils/deprecation.py:122: FutureWarning: You are accessing a training score ('train_precision'), which will not be available by default any more in 0.21. If you need training scores, please set return_train_score=True\n",
      "  warnings.warn(*warn_args, **warn_kwargs)\n",
      "/Applications/anaconda3/lib/python3.6/site-packages/sklearn/utils/deprecation.py:122: FutureWarning: You are accessing a training score ('train_recall'), which will not be available by default any more in 0.21. If you need training scores, please set return_train_score=True\n",
      "  warnings.warn(*warn_args, **warn_kwargs)\n"
     ]
    },
    {
     "data": {
      "text/plain": [
       "{'fit_time': array([ 0.01798296,  0.01561093,  0.01611686,  0.01487708,  0.0154562 ]),\n",
       " 'score_time': array([ 0.00383115,  0.00448775,  0.00428295,  0.00419903,  0.00368977]),\n",
       " 'test_accuracy': array([ 1.    ,  0.9875,  0.9625,  0.9625,  1.    ]),\n",
       " 'test_f1': array([ 1.        ,  0.98989899,  0.96907216,  0.97029703,  1.        ]),\n",
       " 'test_precision': array([ 1.        ,  1.        ,  1.        ,  0.96078431,  1.        ]),\n",
       " 'test_recall': array([ 1.  ,  0.98,  0.94,  0.98,  1.  ]),\n",
       " 'train_accuracy': array([ 0.99375 ,  0.984375,  0.996875,  0.996875,  1.      ]),\n",
       " 'train_f1': array([ 0.99497487,  0.98734177,  0.99750623,  0.99749373,  1.        ]),\n",
       " 'train_precision': array([ 1.        ,  1.        ,  0.99502488,  1.        ,  1.        ]),\n",
       " 'train_recall': array([ 0.99 ,  0.975,  1.   ,  0.995,  1.   ])}"
      ]
     },
     "execution_count": 74,
     "metadata": {},
     "output_type": "execute_result"
    }
   ],
   "source": [
    "score_baglr = cross_validate(baglr, x, y, cv=5, scoring=scoring)\n",
    "score_baglr"
   ]
  },
  {
   "cell_type": "markdown",
   "metadata": {},
   "source": [
    "### Comparison"
   ]
  },
  {
   "cell_type": "code",
   "execution_count": 76,
   "metadata": {},
   "outputs": [],
   "source": [
    "scores = [score_logistic, score_perceptron, score_linearSVM, score_polySVM, score_gaussianSVM, score_dt, \n",
    "          score_rf, score_xgbdt, score_xgblc, score_adadt, score_adalc, score_bagdt, score_baglr]"
   ]
  },
  {
   "cell_type": "code",
   "execution_count": 94,
   "metadata": {},
   "outputs": [
    {
     "name": "stdout",
     "output_type": "stream",
     "text": [
      "0.003,0.001,0.990,0.992,1.000,1.000\n",
      "0.001,0.001,0.647,0.762,0.660,0.777\n",
      "4.658,0.002,0.978,0.982,0.997,0.997\n",
      "8.809,0.002,0.993,0.994,1.000,1.000\n",
      "0.005,0.004,0.625,0.769,1.000,1.000\n",
      "0.001,0.002,0.995,0.996,0.999,0.999\n",
      "0.049,0.011,1.000,1.000,1.000,1.000\n",
      "0.012,0.002,0.997,0.998,1.000,1.000\n",
      "0.005,0.002,0.997,0.998,0.999,0.999\n",
      "0.061,0.014,0.997,0.998,1.000,1.000\n",
      "0.119,0.014,0.985,0.987,0.993,0.994\n",
      "0.044,0.013,1.000,1.000,0.996,0.997\n",
      "0.016,0.004,0.982,0.986,0.994,0.995\n"
     ]
    },
    {
     "name": "stderr",
     "output_type": "stream",
     "text": [
      "/Applications/anaconda3/lib/python3.6/site-packages/sklearn/utils/deprecation.py:122: FutureWarning: You are accessing a training score ('train_accuracy'), which will not be available by default any more in 0.21. If you need training scores, please set return_train_score=True\n",
      "  warnings.warn(*warn_args, **warn_kwargs)\n",
      "/Applications/anaconda3/lib/python3.6/site-packages/sklearn/utils/deprecation.py:122: FutureWarning: You are accessing a training score ('train_f1'), which will not be available by default any more in 0.21. If you need training scores, please set return_train_score=True\n",
      "  warnings.warn(*warn_args, **warn_kwargs)\n"
     ]
    }
   ],
   "source": [
    "for score in scores:\n",
    "    fit_time = score['fit_time'].mean()\n",
    "    score_time = score['score_time'].mean()\n",
    "    test_accuracy = score['test_accuracy'].mean()\n",
    "    test_f1 = score['test_f1'].mean()\n",
    "    train_accuracy = score['train_accuracy'].mean()\n",
    "    train_f1 = score['train_f1'].mean()\n",
    "    print('{0:.3f},{1:.3f},{2:.3f},{3:.3f},{4:.3f},{5:.3f}'.format(fit_time, score_time, test_accuracy, \n",
    "                                                                   test_f1, train_accuracy, train_f1))"
   ]
  },
  {
   "cell_type": "code",
   "execution_count": null,
   "metadata": {
    "collapsed": true
   },
   "outputs": [],
   "source": []
  }
 ],
 "metadata": {
  "kernelspec": {
   "display_name": "Python 3",
   "language": "python",
   "name": "python3"
  },
  "language_info": {
   "codemirror_mode": {
    "name": "ipython",
    "version": 3
   },
   "file_extension": ".py",
   "mimetype": "text/x-python",
   "name": "python",
   "nbconvert_exporter": "python",
   "pygments_lexer": "ipython3",
   "version": "3.6.3"
  }
 },
 "nbformat": 4,
 "nbformat_minor": 2
}
